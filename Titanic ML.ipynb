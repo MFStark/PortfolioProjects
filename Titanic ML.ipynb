{
 "cells": [
  {
   "cell_type": "code",
   "execution_count": 1,
   "id": "c81d9769",
   "metadata": {},
   "outputs": [],
   "source": [
    "#Module imports\n",
    "import numpy as np\n",
    "import pandas as pd\n",
    "import matplotlib.pyplot as plt\n",
    "\n"
   ]
  },
  {
   "cell_type": "code",
   "execution_count": 2,
   "id": "21fa8a91",
   "metadata": {},
   "outputs": [],
   "source": [
    "#Read csv files as dataframes\n",
    "train = pd.read_csv('D:/Downloads/Python/Titanic Project/Data/train.csv')\n",
    "test = pd.read_csv('D:/Downloads/Python/Titanic Project/Data/test.csv')"
   ]
  },
  {
   "cell_type": "markdown",
   "id": "55bb327f",
   "metadata": {},
   "source": [
    "# ***Training Data Set: Data Wrangling*** \n",
    "***"
   ]
  },
  {
   "cell_type": "code",
   "execution_count": 3,
   "id": "06e34544",
   "metadata": {},
   "outputs": [
    {
     "data": {
      "text/plain": [
       "PassengerId      int64\n",
       "Survived         int64\n",
       "Pclass           int64\n",
       "Name            object\n",
       "Sex             object\n",
       "Age            float64\n",
       "SibSp            int64\n",
       "Parch            int64\n",
       "Ticket          object\n",
       "Fare           float64\n",
       "Cabin           object\n",
       "Embarked        object\n",
       "dtype: object"
      ]
     },
     "execution_count": 3,
     "metadata": {},
     "output_type": "execute_result"
    }
   ],
   "source": [
    "#Describe variable types in dataframe\n",
    "#Total of 11 predictor variables and 1 reponse varaible 'Survived'\n",
    "train.dtypes"
   ]
  },
  {
   "cell_type": "code",
   "execution_count": 4,
   "id": "20d31bb6",
   "metadata": {},
   "outputs": [
    {
     "data": {
      "text/plain": [
       "PassengerId      0\n",
       "Survived         0\n",
       "Pclass           0\n",
       "Name             0\n",
       "Sex              0\n",
       "Age            177\n",
       "SibSp            0\n",
       "Parch            0\n",
       "Ticket           0\n",
       "Fare             0\n",
       "Cabin          687\n",
       "Embarked         2\n",
       "dtype: int64"
      ]
     },
     "execution_count": 4,
     "metadata": {},
     "output_type": "execute_result"
    }
   ],
   "source": [
    "#Check for missing values in the training dataset\n",
    "train.isnull().sum()"
   ]
  },
  {
   "cell_type": "markdown",
   "id": "8d1d93e7",
   "metadata": {},
   "source": [
    "###### Missing Data: Age\n",
    "***"
   ]
  },
  {
   "cell_type": "code",
   "execution_count": 5,
   "id": "673bc324",
   "metadata": {},
   "outputs": [
    {
     "data": {
      "text/plain": [
       "array([[<AxesSubplot:title={'center':'1'}>,\n",
       "        <AxesSubplot:title={'center':'2'}>],\n",
       "       [<AxesSubplot:title={'center':'3'}>, <AxesSubplot:>]], dtype=object)"
      ]
     },
     "execution_count": 5,
     "metadata": {},
     "output_type": "execute_result"
    },
    {
     "data": {
      "image/png": "[encoded data removed]",
      "text/plain": [
       "<Figure size 432x288 with 4 Axes>"
      ]
     },
     "metadata": {
      "needs_background": "light"
     },
     "output_type": "display_data"
    }
   ],
   "source": [
    "#Age histograms based on 'Pclass,' where 1 = 1st, 2 = 2nd, and 3 = 3rd\n",
    "train.hist('Age', 'Pclass')"
   ]
  },
  {
   "cell_type": "code",
   "execution_count": 6,
   "id": "494e8a69",
   "metadata": {},
   "outputs": [
    {
     "data": {
      "text/html": [
       "<div>\n",
       "<style scoped>\n",
       "    .dataframe tbody tr th:only-of-type {\n",
       "        vertical-align: middle;\n",
       "    }\n",
       "\n",
       "    .dataframe tbody tr th {\n",
       "        vertical-align: top;\n",
       "    }\n",
       "\n",
       "    .dataframe thead th {\n",
       "        text-align: right;\n",
       "    }\n",
       "</style>\n",
       "<table border=\"1\" class=\"dataframe\">\n",
       "  <thead>\n",
       "    <tr style=\"text-align: right;\">\n",
       "      <th></th>\n",
       "      <th>Pclass</th>\n",
       "      <th>Age</th>\n",
       "    </tr>\n",
       "  </thead>\n",
       "  <tbody>\n",
       "    <tr>\n",
       "      <th>0</th>\n",
       "      <td>1</td>\n",
       "      <td>38.233441</td>\n",
       "    </tr>\n",
       "    <tr>\n",
       "      <th>1</th>\n",
       "      <td>2</td>\n",
       "      <td>29.877630</td>\n",
       "    </tr>\n",
       "    <tr>\n",
       "      <th>2</th>\n",
       "      <td>3</td>\n",
       "      <td>25.140620</td>\n",
       "    </tr>\n",
       "  </tbody>\n",
       "</table>\n",
       "</div>"
      ],
      "text/plain": [
       "   Pclass        Age\n",
       "0       1  38.233441\n",
       "1       2  29.877630\n",
       "2       3  25.140620"
      ]
     },
     "execution_count": 6,
     "metadata": {},
     "output_type": "execute_result"
    }
   ],
   "source": [
    "#Find the average age grouped by 'Pclass'\n",
    "train.groupby('Pclass', as_index=False)['Age'].mean()"
   ]
  },
  {
   "cell_type": "code",
   "execution_count": 7,
   "id": "e2b87643",
   "metadata": {},
   "outputs": [],
   "source": [
    "#Impute missing Ages based on 'Pclass' mean\n",
    "train['Age'] = train['Age'].fillna(train.groupby('Pclass')['Age'].transform('mean'))"
   ]
  },
  {
   "cell_type": "code",
   "execution_count": 8,
   "id": "2e8900f1",
   "metadata": {},
   "outputs": [
    {
     "data": {
      "text/plain": [
       "PassengerId      0\n",
       "Survived         0\n",
       "Pclass           0\n",
       "Name             0\n",
       "Sex              0\n",
       "Age              0\n",
       "SibSp            0\n",
       "Parch            0\n",
       "Ticket           0\n",
       "Fare             0\n",
       "Cabin          687\n",
       "Embarked         2\n",
       "dtype: int64"
      ]
     },
     "execution_count": 8,
     "metadata": {},
     "output_type": "execute_result"
    }
   ],
   "source": [
    "#Verify that the values were filled\n",
    "train.isnull().sum()"
   ]
  },
  {
   "cell_type": "code",
   "execution_count": 9,
   "id": "cbd34929",
   "metadata": {},
   "outputs": [
    {
     "data": {
      "text/html": [
       "<div>\n",
       "<style scoped>\n",
       "    .dataframe tbody tr th:only-of-type {\n",
       "        vertical-align: middle;\n",
       "    }\n",
       "\n",
       "    .dataframe tbody tr th {\n",
       "        vertical-align: top;\n",
       "    }\n",
       "\n",
       "    .dataframe thead th {\n",
       "        text-align: right;\n",
       "    }\n",
       "</style>\n",
       "<table border=\"1\" class=\"dataframe\">\n",
       "  <thead>\n",
       "    <tr style=\"text-align: right;\">\n",
       "      <th></th>\n",
       "      <th>Pclass</th>\n",
       "      <th>Age</th>\n",
       "    </tr>\n",
       "  </thead>\n",
       "  <tbody>\n",
       "    <tr>\n",
       "      <th>0</th>\n",
       "      <td>1</td>\n",
       "      <td>38.233441</td>\n",
       "    </tr>\n",
       "    <tr>\n",
       "      <th>1</th>\n",
       "      <td>2</td>\n",
       "      <td>29.877630</td>\n",
       "    </tr>\n",
       "    <tr>\n",
       "      <th>2</th>\n",
       "      <td>3</td>\n",
       "      <td>25.140620</td>\n",
       "    </tr>\n",
       "  </tbody>\n",
       "</table>\n",
       "</div>"
      ],
      "text/plain": [
       "   Pclass        Age\n",
       "0       1  38.233441\n",
       "1       2  29.877630\n",
       "2       3  25.140620"
      ]
     },
     "execution_count": 9,
     "metadata": {},
     "output_type": "execute_result"
    }
   ],
   "source": [
    "#Verify that the mean did not change after imputation\n",
    "train.groupby('Pclass', as_index=False)['Age'].mean()"
   ]
  },
  {
   "cell_type": "markdown",
   "id": "a9f1418e",
   "metadata": {},
   "source": [
    "###### Missing Data: Cabin\n",
    "***"
   ]
  },
  {
   "cell_type": "code",
   "execution_count": 10,
   "id": "69a2007c",
   "metadata": {},
   "outputs": [],
   "source": [
    "#687 missing instances for 'Cabin'\n",
    "#Based on Titanic cabin structure\n",
    "#First class had cabins on A,B,or C, a mix of D or E\n",
    "#Third class was mainly on F or G\n",
    "\n",
    "#Create new varaible 'Deck' based on 'Cabin' variable to keep only the initial Letter and missing values as 'M'\n",
    "train['Deck'] = train['Cabin'].str[0]\n",
    "train['Deck']=train['Deck'].fillna('M')"
   ]
  },
  {
   "cell_type": "code",
   "execution_count": 11,
   "id": "34e752f7",
   "metadata": {},
   "outputs": [
    {
     "data": {
      "text/plain": [
       "Deck\n",
       "A    0.466667\n",
       "B    0.744681\n",
       "C    0.593220\n",
       "D    0.757576\n",
       "E    0.750000\n",
       "F    0.615385\n",
       "G    0.500000\n",
       "M    0.299854\n",
       "T    0.000000\n",
       "Name: Survived, dtype: float64"
      ]
     },
     "execution_count": 11,
     "metadata": {},
     "output_type": "execute_result"
    }
   ],
   "source": [
    "#Check survival rate based on Cabin locarions\n",
    "train.groupby('Deck')['Survived'].mean()"
   ]
  },
  {
   "cell_type": "code",
   "execution_count": 12,
   "id": "d7c9f73d",
   "metadata": {},
   "outputs": [
    {
     "data": {
      "text/plain": [
       "<AxesSubplot:xlabel='Deck'>"
      ]
     },
     "execution_count": 12,
     "metadata": {},
     "output_type": "execute_result"
    },
    {
     "data": {
      "image/png": "[encoded data removed]",
      "text/plain": [
       "<Figure size 1080x504 with 1 Axes>"
      ]
     },
     "metadata": {
      "needs_background": "light"
     },
     "output_type": "display_data"
    }
   ],
   "source": [
    "#Plot bar chart based on 'Deck' and 'Survival'\n",
    "#Group by 'Deck' and plot mean survival rate\n",
    "train.groupby('Deck')['Survived'].mean().plot(kind='bar', figsize=(15,7), label = 'rate')\n"
   ]
  },
  {
   "cell_type": "code",
   "execution_count": 13,
   "id": "5580ee42",
   "metadata": {},
   "outputs": [
    {
     "data": {
      "text/plain": [
       "M              687\n",
       "Upper Deck     122\n",
       "Middle Deck     65\n",
       "Lower Deck      17\n",
       "Name: Deck, dtype: int64"
      ]
     },
     "execution_count": 13,
     "metadata": {},
     "output_type": "execute_result"
    }
   ],
   "source": [
    "#Survival rate varies according to cabin location on upper or lower decks\n",
    "#Group cabin locations, looking at the data one instance of 'T', first class\n",
    "train['Deck'] = train['Deck'].replace(['A','B','C','T'], 'Upper Deck')\n",
    "train['Deck'] = train['Deck'].replace(['D','E'], 'Middle Deck')\n",
    "train['Deck'] = train['Deck'].replace(['F','G'], 'Lower Deck')\n",
    "train['Deck'].value_counts()"
   ]
  },
  {
   "cell_type": "code",
   "execution_count": 14,
   "id": "44f6685e",
   "metadata": {},
   "outputs": [],
   "source": [
    "#Keep missing instances of Cabin, since missing cabin instances make up a majority"
   ]
  },
  {
   "cell_type": "markdown",
   "id": "2b0c17c4",
   "metadata": {},
   "source": [
    "###### Missing Data: Embarked\n",
    "***"
   ]
  },
  {
   "cell_type": "code",
   "execution_count": 15,
   "id": "188e9d9f",
   "metadata": {},
   "outputs": [
    {
     "data": {
      "text/html": [
       "<div>\n",
       "<style scoped>\n",
       "    .dataframe tbody tr th:only-of-type {\n",
       "        vertical-align: middle;\n",
       "    }\n",
       "\n",
       "    .dataframe tbody tr th {\n",
       "        vertical-align: top;\n",
       "    }\n",
       "\n",
       "    .dataframe thead th {\n",
       "        text-align: right;\n",
       "    }\n",
       "</style>\n",
       "<table border=\"1\" class=\"dataframe\">\n",
       "  <thead>\n",
       "    <tr style=\"text-align: right;\">\n",
       "      <th></th>\n",
       "      <th>PassengerId</th>\n",
       "      <th>Survived</th>\n",
       "      <th>Pclass</th>\n",
       "      <th>Name</th>\n",
       "      <th>Sex</th>\n",
       "      <th>Age</th>\n",
       "      <th>SibSp</th>\n",
       "      <th>Parch</th>\n",
       "      <th>Ticket</th>\n",
       "      <th>Fare</th>\n",
       "      <th>Cabin</th>\n",
       "      <th>Embarked</th>\n",
       "      <th>Deck</th>\n",
       "    </tr>\n",
       "  </thead>\n",
       "  <tbody>\n",
       "    <tr>\n",
       "      <th>61</th>\n",
       "      <td>62</td>\n",
       "      <td>1</td>\n",
       "      <td>1</td>\n",
       "      <td>Icard, Miss. Amelie</td>\n",
       "      <td>female</td>\n",
       "      <td>38.0</td>\n",
       "      <td>0</td>\n",
       "      <td>0</td>\n",
       "      <td>113572</td>\n",
       "      <td>80.0</td>\n",
       "      <td>B28</td>\n",
       "      <td>NaN</td>\n",
       "      <td>Upper Deck</td>\n",
       "    </tr>\n",
       "    <tr>\n",
       "      <th>829</th>\n",
       "      <td>830</td>\n",
       "      <td>1</td>\n",
       "      <td>1</td>\n",
       "      <td>Stone, Mrs. George Nelson (Martha Evelyn)</td>\n",
       "      <td>female</td>\n",
       "      <td>62.0</td>\n",
       "      <td>0</td>\n",
       "      <td>0</td>\n",
       "      <td>113572</td>\n",
       "      <td>80.0</td>\n",
       "      <td>B28</td>\n",
       "      <td>NaN</td>\n",
       "      <td>Upper Deck</td>\n",
       "    </tr>\n",
       "  </tbody>\n",
       "</table>\n",
       "</div>"
      ],
      "text/plain": [
       "     PassengerId  Survived  Pclass                                       Name  \\\n",
       "61            62         1       1                        Icard, Miss. Amelie   \n",
       "829          830         1       1  Stone, Mrs. George Nelson (Martha Evelyn)   \n",
       "\n",
       "        Sex   Age  SibSp  Parch  Ticket  Fare Cabin Embarked        Deck  \n",
       "61   female  38.0      0      0  113572  80.0   B28      NaN  Upper Deck  \n",
       "829  female  62.0      0      0  113572  80.0   B28      NaN  Upper Deck  "
      ]
     },
     "execution_count": 15,
     "metadata": {},
     "output_type": "execute_result"
    }
   ],
   "source": [
    "#2 instances of missing data, easily searchable\n",
    "train.loc[train['Embarked'].isnull()]"
   ]
  },
  {
   "cell_type": "code",
   "execution_count": 16,
   "id": "4fef9008",
   "metadata": {},
   "outputs": [
    {
     "data": {
      "text/plain": [
       "S    38\n",
       "C    26\n",
       "Name: Embarked, dtype: int64"
      ]
     },
     "execution_count": 16,
     "metadata": {},
     "output_type": "execute_result"
    }
   ],
   "source": [
    "#Both are 'Pclass' = 1, with Fare = 80.00 and Upper Deck\n",
    "train.loc[(train['Pclass'] == 1 ) & (train['Fare'] <= 80) & (train['Deck'] == 'Upper Deck')]['Embarked'].value_counts()"
   ]
  },
  {
   "cell_type": "code",
   "execution_count": 17,
   "id": "fafd4387",
   "metadata": {},
   "outputs": [
    {
     "data": {
      "text/plain": [
       "S    646\n",
       "C    168\n",
       "Q     77\n",
       "Name: Embarked, dtype: int64"
      ]
     },
     "execution_count": 17,
     "metadata": {},
     "output_type": "execute_result"
    }
   ],
   "source": [
    "#Impute with 'S', further research into the individuals shows that these two passengers did board in Southampton\n",
    "train['Embarked']=train['Embarked'].fillna('S')\n",
    "#Verify imputation\n",
    "train['Embarked'].value_counts()"
   ]
  },
  {
   "cell_type": "markdown",
   "id": "71e6271e",
   "metadata": {},
   "source": [
    "###### All missing data from the training data set has been imputed\n",
    "###### Next step is to encode categorical data\n",
    "***"
   ]
  },
  {
   "cell_type": "markdown",
   "id": "adb0a562",
   "metadata": {},
   "source": [
    "# ***Data Encoding***\n",
    "***"
   ]
  },
  {
   "cell_type": "code",
   "execution_count": 18,
   "id": "c08c1e79",
   "metadata": {},
   "outputs": [
    {
     "data": {
      "text/plain": [
       "PassengerId      int64\n",
       "Survived         int64\n",
       "Pclass           int64\n",
       "Name            object\n",
       "Sex             object\n",
       "Age            float64\n",
       "SibSp            int64\n",
       "Parch            int64\n",
       "Ticket          object\n",
       "Fare           float64\n",
       "Cabin           object\n",
       "Embarked        object\n",
       "Deck            object\n",
       "dtype: object"
      ]
     },
     "execution_count": 18,
     "metadata": {},
     "output_type": "execute_result"
    }
   ],
   "source": [
    "#Take a look at the data types\n",
    "train.dtypes"
   ]
  },
  {
   "cell_type": "markdown",
   "id": "11bad1b1",
   "metadata": {},
   "source": [
    "### Binning Data\n",
    "***\n",
    "###### Age & Fare"
   ]
  },
  {
   "cell_type": "code",
   "execution_count": 19,
   "id": "26326c65",
   "metadata": {},
   "outputs": [
    {
     "data": {
      "text/plain": [
       "<AxesSubplot:>"
      ]
     },
     "execution_count": 19,
     "metadata": {},
     "output_type": "execute_result"
    },
    {
     "data": {
      "image/png": "[encoded data removed]",
      "text/plain": [
       "<Figure size 1080x504 with 1 Axes>"
      ]
     },
     "metadata": {
      "needs_background": "light"
     },
     "output_type": "display_data"
    }
   ],
   "source": [
    "#Use boxplot to look for outliers and percentiles for 'Age'\n",
    "train.boxplot(column=['Age'], figsize = (15,7))"
   ]
  },
  {
   "cell_type": "code",
   "execution_count": 20,
   "id": "fc5b8dab",
   "metadata": {},
   "outputs": [
    {
     "data": {
      "text/plain": [
       "count    891.000000\n",
       "mean      29.292875\n",
       "std       13.210527\n",
       "min        0.420000\n",
       "25%       22.000000\n",
       "50%       26.000000\n",
       "75%       37.000000\n",
       "max       80.000000\n",
       "Name: Age, dtype: float64"
      ]
     },
     "execution_count": 20,
     "metadata": {},
     "output_type": "execute_result"
    }
   ],
   "source": [
    "#Outliers present in 'Age'\n",
    "train['Age'].describe()"
   ]
  },
  {
   "cell_type": "code",
   "execution_count": 21,
   "id": "23ce69bc",
   "metadata": {},
   "outputs": [],
   "source": [
    "#Use dataframe.cut() to bin 'Age' based on specificed Bin amount\n",
    "train['Age'] = pd.cut(train['Age'].astype(int), 5)"
   ]
  },
  {
   "cell_type": "code",
   "execution_count": 22,
   "id": "2ad17adf",
   "metadata": {},
   "outputs": [
    {
     "data": {
      "text/plain": [
       "(16.0, 32.0]     495\n",
       "(32.0, 48.0]     216\n",
       "(-0.08, 16.0]    100\n",
       "(48.0, 64.0]      69\n",
       "(64.0, 80.0]      11\n",
       "Name: Age, dtype: int64"
      ]
     },
     "execution_count": 22,
     "metadata": {},
     "output_type": "execute_result"
    }
   ],
   "source": [
    "#Display the Bins allocated for 'Age'\n",
    "train['Age'].value_counts()"
   ]
  },
  {
   "cell_type": "code",
   "execution_count": 23,
   "id": "1f52a685",
   "metadata": {},
   "outputs": [
    {
     "data": {
      "text/plain": [
       "<AxesSubplot:>"
      ]
     },
     "execution_count": 23,
     "metadata": {},
     "output_type": "execute_result"
    },
    {
     "data": {
      "image/png": "[encoded data removed]",
      "text/plain": [
       "<Figure size 1080x504 with 1 Axes>"
      ]
     },
     "metadata": {
      "needs_background": "light"
     },
     "output_type": "display_data"
    }
   ],
   "source": [
    "#Use boxplot to look for outliers and percentiles for 'Fare'\n",
    "train.boxplot(column=['Fare'], figsize = (15,7))"
   ]
  },
  {
   "cell_type": "code",
   "execution_count": 24,
   "id": "1a263506",
   "metadata": {},
   "outputs": [],
   "source": [
    "#Outliers present in 'Fare' variable\n",
    "#Use dataframe.qcut() to bin 'Fare' into specifed Bins, with similar allocation\n",
    "train['Fare'] = pd.qcut(train['Fare'].astype(int), 5)"
   ]
  },
  {
   "cell_type": "code",
   "execution_count": 25,
   "id": "f17115d2",
   "metadata": {},
   "outputs": [
    {
     "data": {
      "text/plain": [
       "(-0.001, 7.0]    241\n",
       "(21.0, 39.0]     180\n",
       "(39.0, 512.0]    176\n",
       "(10.0, 21.0]     171\n",
       "(7.0, 10.0]      123\n",
       "Name: Fare, dtype: int64"
      ]
     },
     "execution_count": 25,
     "metadata": {},
     "output_type": "execute_result"
    }
   ],
   "source": [
    "#Display the Bins allocated for 'Fare'\n",
    "train['Fare'].value_counts()"
   ]
  },
  {
   "cell_type": "code",
   "execution_count": 26,
   "id": "0d19a328",
   "metadata": {},
   "outputs": [
    {
     "data": {
      "text/plain": [
       "PassengerId       int64\n",
       "Survived          int64\n",
       "Pclass            int64\n",
       "Name             object\n",
       "Sex              object\n",
       "Age            category\n",
       "SibSp             int64\n",
       "Parch             int64\n",
       "Ticket           object\n",
       "Fare           category\n",
       "Cabin            object\n",
       "Embarked         object\n",
       "Deck             object\n",
       "dtype: object"
      ]
     },
     "execution_count": 26,
     "metadata": {},
     "output_type": "execute_result"
    }
   ],
   "source": [
    "#Verify 'Age' and 'Fare' have been binned and is a category type\n",
    "train.dtypes"
   ]
  },
  {
   "cell_type": "code",
   "execution_count": 27,
   "id": "b3ab3889",
   "metadata": {},
   "outputs": [
    {
     "name": "stdout",
     "output_type": "stream",
     "text": [
      "Survival rates for age groups: Age\n",
      "(-0.08, 16.0]    0.550000\n",
      "(16.0, 32.0]     0.337374\n",
      "(32.0, 48.0]     0.412037\n",
      "(48.0, 64.0]     0.434783\n",
      "(64.0, 80.0]     0.090909\n",
      "Name: Survived, dtype: float64\n"
     ]
    },
    {
     "data": {
      "text/plain": [
       "<AxesSubplot:xlabel='Age'>"
      ]
     },
     "execution_count": 27,
     "metadata": {},
     "output_type": "execute_result"
    },
    {
     "data": {
      "image/png": "[encoded data removed]",
      "text/plain": [
       "<Figure size 1080x504 with 1 Axes>"
      ]
     },
     "metadata": {
      "needs_background": "light"
     },
     "output_type": "display_data"
    }
   ],
   "source": [
    "#Look at survival rates among different Binned categories\n",
    "print('Survival rates for age groups:', train.groupby('Age')['Survived'].mean())\n",
    "train.groupby('Age')['Survived'].mean().plot(kind='bar', figsize=(15,7))"
   ]
  },
  {
   "cell_type": "markdown",
   "id": "07de243e",
   "metadata": {},
   "source": [
    "###### ***Survival rates for infants to 16 year olds were highest, with the elderly least likely to survive***"
   ]
  },
  {
   "cell_type": "code",
   "execution_count": 28,
   "id": "39fe3cd0",
   "metadata": {},
   "outputs": [
    {
     "name": "stdout",
     "output_type": "stream",
     "text": [
      "Survival rates for different fare groups: Fare\n",
      "(-0.001, 7.0]    0.215768\n",
      "(7.0, 10.0]      0.195122\n",
      "(10.0, 21.0]     0.426901\n",
      "(21.0, 39.0]     0.444444\n",
      "(39.0, 512.0]    0.642045\n",
      "Name: Survived, dtype: float64\n"
     ]
    },
    {
     "data": {
      "text/plain": [
       "<AxesSubplot:xlabel='Fare'>"
      ]
     },
     "execution_count": 28,
     "metadata": {},
     "output_type": "execute_result"
    },
    {
     "data": {
      "image/png": "[encoded data removed]",
      "text/plain": [
       "<Figure size 1080x504 with 1 Axes>"
      ]
     },
     "metadata": {
      "needs_background": "light"
     },
     "output_type": "display_data"
    }
   ],
   "source": [
    "print('Survival rates for different fare groups:', train.groupby('Fare')['Survived'].mean())\n",
    "train.groupby('Fare')['Survived'].mean().plot(kind='bar', figsize=(15,7))"
   ]
  },
  {
   "cell_type": "markdown",
   "id": "b9fbb614",
   "metadata": {},
   "source": [
    "###### ***Survival rates were higher with passengers with higher ticket fares***"
   ]
  },
  {
   "cell_type": "markdown",
   "id": "26b0cfb2",
   "metadata": {},
   "source": [
    "## Create new summary variable from existing variables\n",
    "***"
   ]
  },
  {
   "cell_type": "code",
   "execution_count": 29,
   "id": "b0f97005",
   "metadata": {},
   "outputs": [
    {
     "data": {
      "text/plain": [
       "1     537\n",
       "2     161\n",
       "3     102\n",
       "4      29\n",
       "6      22\n",
       "5      15\n",
       "7      12\n",
       "11      7\n",
       "8       6\n",
       "Name: Family Size, dtype: int64"
      ]
     },
     "execution_count": 29,
     "metadata": {},
     "output_type": "execute_result"
    }
   ],
   "source": [
    "#Create \"Family Size\" from \"SibSp\" sibling, or spouse, variable and 'Parch', guardian, variable in addition to one seld, +1\n",
    "train['Family Size'] = train['SibSp'] + train['Parch'] + 1\n",
    "train['Family Size'].value_counts()"
   ]
  },
  {
   "cell_type": "code",
   "execution_count": 30,
   "id": "875c67d5",
   "metadata": {},
   "outputs": [
    {
     "data": {
      "text/plain": [
       "<AxesSubplot:>"
      ]
     },
     "execution_count": 30,
     "metadata": {},
     "output_type": "execute_result"
    },
    {
     "data": {
      "image/png": "[encoded data removed]",
      "text/plain": [
       "<Figure size 1080x504 with 1 Axes>"
      ]
     },
     "metadata": {
      "needs_background": "light"
     },
     "output_type": "display_data"
    }
   ],
   "source": [
    "train['Family Size'].hist(figsize=(15,7))"
   ]
  },
  {
   "cell_type": "code",
   "execution_count": 31,
   "id": "a04d4d50",
   "metadata": {},
   "outputs": [
    {
     "data": {
      "text/plain": [
       "1    537\n",
       "2    161\n",
       "3    131\n",
       "4     62\n",
       "Name: Family Bin, dtype: int64"
      ]
     },
     "execution_count": 31,
     "metadata": {},
     "output_type": "execute_result"
    }
   ],
   "source": [
    "#Create manual bins to capture data\n",
    "#Bin 1 if single\n",
    "#Bin 2 if family of 2\n",
    "#Bin 3 if family of 3 or 4\n",
    "#Bin 4 if family of 5 or greater\n",
    "train['Family Bin'] = train['Family Size'].map(lambda s: 1 if s == 1 else (2 if s == 2 else (3 if 3 <= s <= 4 else (4 if s >= 5 else 0))))\n",
    "train['Family Bin'].value_counts()"
   ]
  },
  {
   "cell_type": "code",
   "execution_count": 32,
   "id": "9b9d0a49",
   "metadata": {},
   "outputs": [
    {
     "name": "stdout",
     "output_type": "stream",
     "text": [
      "Survival rates for different Family Sizes: Family Bin\n",
      "1    0.303538\n",
      "2    0.552795\n",
      "3    0.610687\n",
      "4    0.161290\n",
      "Name: Survived, dtype: float64\n"
     ]
    },
    {
     "data": {
      "text/plain": [
       "<AxesSubplot:xlabel='Family Bin'>"
      ]
     },
     "execution_count": 32,
     "metadata": {},
     "output_type": "execute_result"
    },
    {
     "data": {
      "image/png": "[encoded data removed]",
      "text/plain": [
       "<Figure size 1080x504 with 1 Axes>"
      ]
     },
     "metadata": {
      "needs_background": "light"
     },
     "output_type": "display_data"
    }
   ],
   "source": [
    "#Produce survival statistics for 'Family Bin' and 'Survived'\n",
    "print('Survival rates for different Family Sizes:', train.groupby('Family Bin')['Survived'].mean())\n",
    "train.groupby('Family Bin')['Survived'].mean().plot(kind='bar', figsize=(15,7))"
   ]
  },
  {
   "cell_type": "markdown",
   "id": "38f84032",
   "metadata": {},
   "source": [
    "###### ***Survival rates for families were higher than single passengers with the exception of families that were too large, ie. - 5 or more members***"
   ]
  },
  {
   "cell_type": "markdown",
   "id": "a0f2f6a6",
   "metadata": {},
   "source": [
    "## Variable: Tickets\n",
    "***"
   ]
  },
  {
   "cell_type": "code",
   "execution_count": 33,
   "id": "ca31842c",
   "metadata": {},
   "outputs": [
    {
     "data": {
      "text/plain": [
       "347082      7\n",
       "CA. 2343    7\n",
       "1601        7\n",
       "3101295     6\n",
       "CA 2144     6\n",
       "           ..\n",
       "9234        1\n",
       "19988       1\n",
       "2693        1\n",
       "PC 17612    1\n",
       "370376      1\n",
       "Name: Ticket, Length: 681, dtype: int64"
      ]
     },
     "execution_count": 33,
     "metadata": {},
     "output_type": "execute_result"
    }
   ],
   "source": [
    "#Taking a look at survival rate among 'Ticket'\n",
    "train['Ticket'].value_counts()"
   ]
  },
  {
   "cell_type": "code",
   "execution_count": 34,
   "id": "674e38f6",
   "metadata": {},
   "outputs": [
    {
     "data": {
      "text/plain": [
       "1    547\n",
       "2    188\n",
       "3     63\n",
       "4     44\n",
       "7     21\n",
       "6     18\n",
       "5     10\n",
       "Name: Ticket Frequency, dtype: int64"
      ]
     },
     "execution_count": 34,
     "metadata": {},
     "output_type": "execute_result"
    }
   ],
   "source": [
    "#Tickets with multiple instances indicate group of travellers\n",
    "#Group 'Ticket' by frequency count\n",
    "train['Ticket Frequency'] = train.groupby('Ticket')['Ticket'].transform('count')\n",
    "train['Ticket Frequency'].value_counts()"
   ]
  },
  {
   "cell_type": "markdown",
   "id": "2fe65b9f",
   "metadata": {},
   "source": [
    "###### ***There are more individual passengers than there are grouped travellers***"
   ]
  },
  {
   "cell_type": "code",
   "execution_count": 35,
   "id": "ad25d51d",
   "metadata": {},
   "outputs": [
    {
     "name": "stdout",
     "output_type": "stream",
     "text": [
      "Survival rates for different ticket frequencies: Ticket Frequency\n",
      "1    0.297989\n",
      "2    0.574468\n",
      "3    0.698413\n",
      "4    0.500000\n",
      "5    0.000000\n",
      "6    0.000000\n",
      "7    0.238095\n",
      "Name: Survived, dtype: float64\n"
     ]
    },
    {
     "data": {
      "text/plain": [
       "<AxesSubplot:xlabel='Ticket Frequency'>"
      ]
     },
     "execution_count": 35,
     "metadata": {},
     "output_type": "execute_result"
    },
    {
     "data": {
      "image/png": "[encoded data removed]",
      "text/plain": [
       "<Figure size 1080x504 with 1 Axes>"
      ]
     },
     "metadata": {
      "needs_background": "light"
     },
     "output_type": "display_data"
    }
   ],
   "source": [
    "print('Survival rates for different ticket frequencies:', train.groupby('Ticket Frequency')['Survived'].mean())\n",
    "train.groupby('Ticket Frequency')['Survived'].mean().plot(kind='bar', figsize=(15,7))"
   ]
  },
  {
   "cell_type": "markdown",
   "id": "1d9e0927",
   "metadata": {},
   "source": [
    "###### ***Different survival rates among ticket frequencies***"
   ]
  },
  {
   "cell_type": "markdown",
   "id": "dacca257",
   "metadata": {},
   "source": [
    "### Variable: Name Creating Title Variable\n",
    "***"
   ]
  },
  {
   "cell_type": "code",
   "execution_count": 36,
   "id": "44081c69",
   "metadata": {},
   "outputs": [
    {
     "data": {
      "text/plain": [
       "Mr              517\n",
       "Miss            182\n",
       "Mrs             125\n",
       "Master           40\n",
       "Dr                7\n",
       "Rev               6\n",
       "Mlle              2\n",
       "Major             2\n",
       "Col               2\n",
       "the Countess      1\n",
       "Capt              1\n",
       "Ms                1\n",
       "Sir               1\n",
       "Lady              1\n",
       "Mme               1\n",
       "Don               1\n",
       "Jonkheer          1\n",
       "Name: Title, dtype: int64"
      ]
     },
     "execution_count": 36,
     "metadata": {},
     "output_type": "execute_result"
    }
   ],
   "source": [
    "#Extract title from 'Name' variable to look at Marriage status\n",
    "train['Title'] = train['Name'].str.split(', ', expand=True)[1].str.split('.', expand=True)[0]\n",
    "train['Title'].value_counts()"
   ]
  },
  {
   "cell_type": "code",
   "execution_count": 37,
   "id": "8c4fd25e",
   "metadata": {},
   "outputs": [],
   "source": [
    "#Create \"Married\" varaible counts all titles with 'Mrs'\n",
    "#Create empty variable and populate with 0 and replace with 1 if Title is 'Mrs'\n",
    "train['Married'] = 0\n",
    "train['Married'] = train['Married'].loc[train['Title'] == 'Mrs'] == 1"
   ]
  },
  {
   "cell_type": "code",
   "execution_count": 38,
   "id": "88a06117",
   "metadata": {},
   "outputs": [
    {
     "data": {
      "text/plain": [
       "Title\n",
       "Master     40\n",
       "Misc       27\n",
       "Miss      182\n",
       "Mr        517\n",
       "Mrs       125\n",
       "Name: Title, dtype: int64"
      ]
     },
     "execution_count": 38,
     "metadata": {},
     "output_type": "execute_result"
    }
   ],
   "source": [
    "#Collapse titles with frequency less than 10\n",
    "Misc = (train['Title']).value_counts() < 10\n",
    "train['Title'] = train['Title'].apply(lambda x: 'Misc' if Misc.loc[x] == True else x)\n",
    "train.groupby('Title')['Title'].count()"
   ]
  },
  {
   "cell_type": "code",
   "execution_count": 39,
   "id": "3997dcfc",
   "metadata": {},
   "outputs": [
    {
     "name": "stdout",
     "output_type": "stream",
     "text": [
      "Survival rates based on Title: Title\n",
      "Master    0.575000\n",
      "Misc      0.444444\n",
      "Miss      0.697802\n",
      "Mr        0.156673\n",
      "Mrs       0.792000\n",
      "Name: Survived, dtype: float64\n"
     ]
    },
    {
     "data": {
      "text/plain": [
       "<AxesSubplot:xlabel='Title'>"
      ]
     },
     "execution_count": 39,
     "metadata": {},
     "output_type": "execute_result"
    },
    {
     "data": {
      "image/png": "[encoded data removed]",
      "text/plain": [
       "<Figure size 1080x504 with 1 Axes>"
      ]
     },
     "metadata": {
      "needs_background": "light"
     },
     "output_type": "display_data"
    }
   ],
   "source": [
    "print('Survival rates based on Title:', train.groupby('Title')['Survived'].mean())\n",
    "train.groupby('Title')['Survived'].mean().plot(kind='bar', figsize=(15,7))"
   ]
  },
  {
   "cell_type": "markdown",
   "id": "a4a3d7f3",
   "metadata": {},
   "source": [
    "###### *** Single and married females have a higher survival rate "
   ]
  },
  {
   "cell_type": "markdown",
   "id": "ce5748f3",
   "metadata": {},
   "source": [
    "## Encoding Non-Numeric Variables\n",
    "***"
   ]
  },
  {
   "cell_type": "code",
   "execution_count": 40,
   "id": "71c1d2c6",
   "metadata": {},
   "outputs": [
    {
     "data": {
      "text/plain": [
       "PassengerId            int64\n",
       "Survived               int64\n",
       "Pclass                 int64\n",
       "Name                  object\n",
       "Sex                   object\n",
       "Age                 category\n",
       "SibSp                  int64\n",
       "Parch                  int64\n",
       "Ticket                object\n",
       "Fare                category\n",
       "Cabin                 object\n",
       "Embarked              object\n",
       "Deck                  object\n",
       "Family Size            int64\n",
       "Family Bin             int64\n",
       "Ticket Frequency       int64\n",
       "Title                 object\n",
       "Married               object\n",
       "dtype: object"
      ]
     },
     "execution_count": 40,
     "metadata": {},
     "output_type": "execute_result"
    }
   ],
   "source": [
    "train.dtypes"
   ]
  },
  {
   "cell_type": "markdown",
   "id": "c43b116b",
   "metadata": {},
   "source": [
    "###### ***Encode Sex Variable***"
   ]
  },
  {
   "cell_type": "code",
   "execution_count": 41,
   "id": "0a932e99",
   "metadata": {},
   "outputs": [],
   "source": [
    "#Encode 'Sex' variable\n",
    "from sklearn.preprocessing import LabelEncoder\n",
    "train['Sex'] = LabelEncoder().fit_transform(train['Sex'])"
   ]
  },
  {
   "cell_type": "code",
   "execution_count": 42,
   "id": "2c408a70",
   "metadata": {},
   "outputs": [
    {
     "data": {
      "text/plain": [
       "1    577\n",
       "0    314\n",
       "Name: Sex, dtype: int64"
      ]
     },
     "execution_count": 42,
     "metadata": {},
     "output_type": "execute_result"
    }
   ],
   "source": [
    "train['Sex'].value_counts()"
   ]
  },
  {
   "cell_type": "code",
   "execution_count": 43,
   "id": "d6f44307",
   "metadata": {},
   "outputs": [
    {
     "data": {
      "text/plain": [
       "Sex\n",
       "0    0.742038\n",
       "1    0.188908\n",
       "Name: Survived, dtype: float64"
      ]
     },
     "execution_count": 43,
     "metadata": {},
     "output_type": "execute_result"
    }
   ],
   "source": [
    "#Males encoded as 1, females encoded as 0\n",
    "train.groupby('Sex')['Survived'].mean()"
   ]
  },
  {
   "cell_type": "markdown",
   "id": "95733dc5",
   "metadata": {},
   "source": [
    "###### ***Encode Embarked Variable***"
   ]
  },
  {
   "cell_type": "code",
   "execution_count": 44,
   "id": "1b958403",
   "metadata": {},
   "outputs": [
    {
     "data": {
      "text/plain": [
       "S    646\n",
       "C    168\n",
       "Q     77\n",
       "Name: Embarked, dtype: int64"
      ]
     },
     "execution_count": 44,
     "metadata": {},
     "output_type": "execute_result"
    }
   ],
   "source": [
    "train['Embarked'].value_counts()"
   ]
  },
  {
   "cell_type": "code",
   "execution_count": 45,
   "id": "b1b64971",
   "metadata": {},
   "outputs": [],
   "source": [
    "train['Embarked'] = LabelEncoder().fit_transform(train['Embarked'])"
   ]
  },
  {
   "cell_type": "code",
   "execution_count": 46,
   "id": "918b6af5",
   "metadata": {},
   "outputs": [
    {
     "data": {
      "text/plain": [
       "2    646\n",
       "0    168\n",
       "1     77\n",
       "Name: Embarked, dtype: int64"
      ]
     },
     "execution_count": 46,
     "metadata": {},
     "output_type": "execute_result"
    }
   ],
   "source": [
    "train['Embarked'].value_counts()"
   ]
  },
  {
   "cell_type": "code",
   "execution_count": 47,
   "id": "f5ccf97f",
   "metadata": {},
   "outputs": [
    {
     "data": {
      "text/plain": [
       "Embarked\n",
       "0    0.553571\n",
       "1    0.389610\n",
       "2    0.339009\n",
       "Name: Survived, dtype: float64"
      ]
     },
     "execution_count": 47,
     "metadata": {},
     "output_type": "execute_result"
    }
   ],
   "source": [
    "#C encoded as 0, Q encoded as 1, S encoded as 2\n",
    "train.groupby('Embarked')['Survived'].mean()"
   ]
  },
  {
   "cell_type": "markdown",
   "id": "0b6ac430",
   "metadata": {},
   "source": [
    "###### *** Encode Title Variable***"
   ]
  },
  {
   "cell_type": "code",
   "execution_count": 48,
   "id": "e652a4d8",
   "metadata": {},
   "outputs": [
    {
     "data": {
      "text/plain": [
       "Mr        517\n",
       "Miss      182\n",
       "Mrs       125\n",
       "Master     40\n",
       "Misc       27\n",
       "Name: Title, dtype: int64"
      ]
     },
     "execution_count": 48,
     "metadata": {},
     "output_type": "execute_result"
    }
   ],
   "source": [
    "train['Title'].value_counts()"
   ]
  },
  {
   "cell_type": "code",
   "execution_count": 49,
   "id": "f5c7fd82",
   "metadata": {},
   "outputs": [
    {
     "data": {
      "text/plain": [
       "3    517\n",
       "2    182\n",
       "4    125\n",
       "0     40\n",
       "1     27\n",
       "Name: Title, dtype: int64"
      ]
     },
     "execution_count": 49,
     "metadata": {},
     "output_type": "execute_result"
    }
   ],
   "source": [
    "train['Title'] = LabelEncoder().fit_transform(train['Title'])\n",
    "train['Title'].value_counts()"
   ]
  },
  {
   "cell_type": "code",
   "execution_count": 50,
   "id": "8cf2ef92",
   "metadata": {},
   "outputs": [
    {
     "data": {
      "text/plain": [
       "Title\n",
       "0    0.575000\n",
       "1    0.444444\n",
       "2    0.697802\n",
       "3    0.156673\n",
       "4    0.792000\n",
       "Name: Survived, dtype: float64"
      ]
     },
     "execution_count": 50,
     "metadata": {},
     "output_type": "execute_result"
    }
   ],
   "source": [
    "#0 = Master, 1 = Misc, 2 = Miss, 3 = Mr, 4 = Mrs\n",
    "train.groupby('Title')['Survived'].mean()"
   ]
  },
  {
   "cell_type": "markdown",
   "id": "1aebaab6",
   "metadata": {},
   "source": [
    "###### ***Deck Variable***"
   ]
  },
  {
   "cell_type": "code",
   "execution_count": 51,
   "id": "4e285c1b",
   "metadata": {},
   "outputs": [
    {
     "data": {
      "text/plain": [
       "M              687\n",
       "Upper Deck     122\n",
       "Middle Deck     65\n",
       "Lower Deck      17\n",
       "Name: Deck, dtype: int64"
      ]
     },
     "execution_count": 51,
     "metadata": {},
     "output_type": "execute_result"
    }
   ],
   "source": [
    "train['Deck'].value_counts()"
   ]
  },
  {
   "cell_type": "code",
   "execution_count": 52,
   "id": "7955babe",
   "metadata": {},
   "outputs": [
    {
     "data": {
      "text/plain": [
       "1    687\n",
       "3    122\n",
       "2     65\n",
       "0     17\n",
       "Name: Deck, dtype: int64"
      ]
     },
     "execution_count": 52,
     "metadata": {},
     "output_type": "execute_result"
    }
   ],
   "source": [
    "train['Deck'] = LabelEncoder().fit_transform(train['Deck'])\n",
    "train['Deck'].value_counts()"
   ]
  },
  {
   "cell_type": "code",
   "execution_count": 53,
   "id": "582ba1cd",
   "metadata": {},
   "outputs": [
    {
     "data": {
      "text/plain": [
       "Deck\n",
       "0    0.588235\n",
       "1    0.299854\n",
       "2    0.753846\n",
       "3    0.631148\n",
       "Name: Survived, dtype: float64"
      ]
     },
     "execution_count": 53,
     "metadata": {},
     "output_type": "execute_result"
    }
   ],
   "source": [
    "#0 = Lower Deck, 1 = M, 2 = Middle Deck, 3 = Upper Deck\n",
    "train.groupby('Deck')['Survived'].mean()"
   ]
  },
  {
   "cell_type": "markdown",
   "id": "c9975c5f",
   "metadata": {},
   "source": [
    "###### ***Fare Variable***"
   ]
  },
  {
   "cell_type": "code",
   "execution_count": 54,
   "id": "7e6a5394",
   "metadata": {},
   "outputs": [
    {
     "data": {
      "text/plain": [
       "(-0.001, 7.0]    241\n",
       "(21.0, 39.0]     180\n",
       "(39.0, 512.0]    176\n",
       "(10.0, 21.0]     171\n",
       "(7.0, 10.0]      123\n",
       "Name: Fare, dtype: int64"
      ]
     },
     "execution_count": 54,
     "metadata": {},
     "output_type": "execute_result"
    }
   ],
   "source": [
    "train['Fare'].value_counts()"
   ]
  },
  {
   "cell_type": "code",
   "execution_count": 55,
   "id": "603f56f8",
   "metadata": {},
   "outputs": [
    {
     "data": {
      "text/plain": [
       "0    241\n",
       "3    180\n",
       "4    176\n",
       "2    171\n",
       "1    123\n",
       "Name: Fare, dtype: int64"
      ]
     },
     "execution_count": 55,
     "metadata": {},
     "output_type": "execute_result"
    }
   ],
   "source": [
    "train['Fare'] = LabelEncoder().fit_transform(train['Fare'])\n",
    "train['Fare'].value_counts()"
   ]
  },
  {
   "cell_type": "code",
   "execution_count": 56,
   "id": "bb916bee",
   "metadata": {},
   "outputs": [
    {
     "data": {
      "text/plain": [
       "Fare\n",
       "0    0.215768\n",
       "1    0.195122\n",
       "2    0.426901\n",
       "3    0.444444\n",
       "4    0.642045\n",
       "Name: Survived, dtype: float64"
      ]
     },
     "execution_count": 56,
     "metadata": {},
     "output_type": "execute_result"
    }
   ],
   "source": [
    "#(-0.001, 7.0] = 0\n",
    "#(21.0, 39.0] = 3\n",
    "#(39.0, 512.0] = 4\n",
    "#(10.0, 21.0] = 2\n",
    "#(7.0, 10.0] = 1\n",
    "train.groupby('Fare')['Survived'].mean()"
   ]
  },
  {
   "cell_type": "markdown",
   "id": "dc6058f3",
   "metadata": {},
   "source": [
    "###### ***Age Variable***"
   ]
  },
  {
   "cell_type": "code",
   "execution_count": 57,
   "id": "51931d3f",
   "metadata": {},
   "outputs": [
    {
     "data": {
      "text/plain": [
       "(16.0, 32.0]     495\n",
       "(32.0, 48.0]     216\n",
       "(-0.08, 16.0]    100\n",
       "(48.0, 64.0]      69\n",
       "(64.0, 80.0]      11\n",
       "Name: Age, dtype: int64"
      ]
     },
     "execution_count": 57,
     "metadata": {},
     "output_type": "execute_result"
    }
   ],
   "source": [
    "train['Age'].value_counts()"
   ]
  },
  {
   "cell_type": "code",
   "execution_count": 58,
   "id": "5f9a5576",
   "metadata": {},
   "outputs": [
    {
     "data": {
      "text/plain": [
       "1    495\n",
       "2    216\n",
       "0    100\n",
       "3     69\n",
       "4     11\n",
       "Name: Age, dtype: int64"
      ]
     },
     "execution_count": 58,
     "metadata": {},
     "output_type": "execute_result"
    }
   ],
   "source": [
    "train['Age'] = LabelEncoder().fit_transform(train['Age'])\n",
    "train['Age'].value_counts()"
   ]
  },
  {
   "cell_type": "code",
   "execution_count": 59,
   "id": "1639ed0b",
   "metadata": {},
   "outputs": [
    {
     "data": {
      "text/plain": [
       "Age\n",
       "0    0.550000\n",
       "1    0.337374\n",
       "2    0.412037\n",
       "3    0.434783\n",
       "4    0.090909\n",
       "Name: Survived, dtype: float64"
      ]
     },
     "execution_count": 59,
     "metadata": {},
     "output_type": "execute_result"
    }
   ],
   "source": [
    "#(16.0, 32.0]     = 1\n",
    "#(32.0, 48.0]     = 2 \n",
    "#(-0.08, 16.0]    = 0\n",
    "#(48.0, 64.0]     = 3\n",
    "#(64.0, 80.0]     = 4\n",
    "train.groupby('Age')['Survived'].mean()"
   ]
  },
  {
   "cell_type": "markdown",
   "id": "56976fbd",
   "metadata": {},
   "source": [
    "###### ***Married Variable***"
   ]
  },
  {
   "cell_type": "code",
   "execution_count": 60,
   "id": "83440779",
   "metadata": {},
   "outputs": [
    {
     "data": {
      "text/plain": [
       "False    125\n",
       "Name: Married, dtype: int64"
      ]
     },
     "execution_count": 60,
     "metadata": {},
     "output_type": "execute_result"
    }
   ],
   "source": [
    "train['Married'].value_counts()"
   ]
  },
  {
   "cell_type": "code",
   "execution_count": 61,
   "id": "99331dc7",
   "metadata": {},
   "outputs": [
    {
     "data": {
      "text/plain": [
       "1    766\n",
       "0    125\n",
       "Name: Married, dtype: int64"
      ]
     },
     "execution_count": 61,
     "metadata": {},
     "output_type": "execute_result"
    }
   ],
   "source": [
    "train['Married'] = LabelEncoder().fit_transform(train['Married'])\n",
    "train['Married'].value_counts()"
   ]
  },
  {
   "cell_type": "code",
   "execution_count": 62,
   "id": "bf9d39a0",
   "metadata": {},
   "outputs": [
    {
     "data": {
      "text/plain": [
       "Married\n",
       "0    0.792000\n",
       "1    0.317232\n",
       "Name: Survived, dtype: float64"
      ]
     },
     "execution_count": 62,
     "metadata": {},
     "output_type": "execute_result"
    }
   ],
   "source": [
    "#Married = 0, Unmarried = 1\n",
    "train.groupby('Married')['Survived'].mean()"
   ]
  },
  {
   "cell_type": "markdown",
   "id": "7dd1b18a",
   "metadata": {},
   "source": [
    "## Hot Encode New Categorical Variables\n",
    "***"
   ]
  },
  {
   "cell_type": "code",
   "execution_count": 63,
   "id": "a8fddb09",
   "metadata": {},
   "outputs": [
    {
     "data": {
      "text/plain": [
       "PassengerId          int64\n",
       "Survived             int64\n",
       "Pclass               int64\n",
       "Name                object\n",
       "Sex                  int32\n",
       "Age                  int32\n",
       "SibSp                int64\n",
       "Parch                int64\n",
       "Ticket              object\n",
       "Fare                 int32\n",
       "Cabin               object\n",
       "Embarked             int32\n",
       "Deck                 int32\n",
       "Family Size          int64\n",
       "Family Bin           int64\n",
       "Ticket Frequency     int64\n",
       "Title                int32\n",
       "Married              int32\n",
       "dtype: object"
      ]
     },
     "execution_count": 63,
     "metadata": {},
     "output_type": "execute_result"
    }
   ],
   "source": [
    "train.dtypes"
   ]
  },
  {
   "cell_type": "code",
   "execution_count": 64,
   "id": "74b4071f",
   "metadata": {},
   "outputs": [],
   "source": [
    "categories = ['Pclass', 'Sex', 'Embarked', 'Title', 'Deck', 'Family Bin', 'Age', 'Fare']\n",
    "encoded_features = []"
   ]
  },
  {
   "cell_type": "code",
   "execution_count": 65,
   "id": "2ad7734d",
   "metadata": {},
   "outputs": [],
   "source": [
    "from sklearn.preprocessing import OneHotEncoder\n",
    "\n",
    "for feature in categories:\n",
    "    encoded_feat = OneHotEncoder().fit_transform(train[feature].values.reshape(-1, 1 )).toarray()\n",
    "    n = train[feature].nunique()\n",
    "    cols = ['{}_{}'.format(feature, n) for n in range(1, n+1)]\n",
    "    encoded_df = pd.DataFrame(encoded_feat, columns=cols)\n",
    "    encoded_df.index = train.index\n",
    "    encoded_features.append(encoded_df)\n",
    "    \n",
    "train = pd.concat([train, *encoded_features], axis=1)"
   ]
  },
  {
   "cell_type": "markdown",
   "id": "930d2740",
   "metadata": {},
   "source": [
    "## Create Model Based on Training Data Set\n",
    "***"
   ]
  },
  {
   "cell_type": "code",
   "execution_count": 66,
   "id": "56026c6c",
   "metadata": {},
   "outputs": [
    {
     "data": {
      "text/plain": [
       "PassengerId           int64\n",
       "Survived              int64\n",
       "Pclass                int64\n",
       "Name                 object\n",
       "Sex                   int32\n",
       "Age                   int32\n",
       "SibSp                 int64\n",
       "Parch                 int64\n",
       "Ticket               object\n",
       "Fare                  int32\n",
       "Cabin                object\n",
       "Embarked              int32\n",
       "Deck                  int32\n",
       "Family Size           int64\n",
       "Family Bin            int64\n",
       "Ticket Frequency      int64\n",
       "Title                 int32\n",
       "Married               int32\n",
       "Pclass_1            float64\n",
       "Pclass_2            float64\n",
       "Pclass_3            float64\n",
       "Sex_1               float64\n",
       "Sex_2               float64\n",
       "Embarked_1          float64\n",
       "Embarked_2          float64\n",
       "Embarked_3          float64\n",
       "Title_1             float64\n",
       "Title_2             float64\n",
       "Title_3             float64\n",
       "Title_4             float64\n",
       "Title_5             float64\n",
       "Deck_1              float64\n",
       "Deck_2              float64\n",
       "Deck_3              float64\n",
       "Deck_4              float64\n",
       "Family Bin_1        float64\n",
       "Family Bin_2        float64\n",
       "Family Bin_3        float64\n",
       "Family Bin_4        float64\n",
       "Age_1               float64\n",
       "Age_2               float64\n",
       "Age_3               float64\n",
       "Age_4               float64\n",
       "Age_5               float64\n",
       "Fare_1              float64\n",
       "Fare_2              float64\n",
       "Fare_3              float64\n",
       "Fare_4              float64\n",
       "Fare_5              float64\n",
       "dtype: object"
      ]
     },
     "execution_count": 66,
     "metadata": {},
     "output_type": "execute_result"
    }
   ],
   "source": [
    "train.dtypes"
   ]
  },
  {
   "cell_type": "code",
   "execution_count": 67,
   "id": "7a863dd5",
   "metadata": {},
   "outputs": [],
   "source": [
    "#Drop Columns training data set will not use to model\n",
    "drop = ['Pclass', 'Sex', 'Embarked', 'Title', 'Deck', 'Family Bin', 'Age', 'Fare', 'PassengerId', 'Name', 'SibSp',\n",
    "       'Parch','Ticket', 'Cabin', 'Family Size', 'Survived']"
   ]
  },
  {
   "cell_type": "markdown",
   "id": "1ec41924",
   "metadata": {},
   "source": [
    "###### ***Logistic Regressoin***"
   ]
  },
  {
   "cell_type": "code",
   "execution_count": 68,
   "id": "c2ea3b1f",
   "metadata": {},
   "outputs": [],
   "source": [
    "from sklearn.model_selection import train_test_split\n",
    "from sklearn.linear_model import LogisticRegression\n",
    "from sklearn.metrics import accuracy_score, confusion_matrix"
   ]
  },
  {
   "cell_type": "code",
   "execution_count": 69,
   "id": "401831a8",
   "metadata": {},
   "outputs": [],
   "source": [
    "#Create seperate dataframes containing predictor variables and the response variable\n",
    "X = train.drop(drop, axis = 1)\n",
    "y = train['Survived']"
   ]
  },
  {
   "cell_type": "code",
   "execution_count": 70,
   "id": "dbe1a523",
   "metadata": {},
   "outputs": [],
   "source": [
    "#Split training dataset by 75% training and 25% testing\n",
    "X_train, X_test, y_train, y_test = train_test_split(X, y, test_size = 0.25, random_state = 0)"
   ]
  },
  {
   "cell_type": "code",
   "execution_count": 71,
   "id": "a4e55df4",
   "metadata": {},
   "outputs": [],
   "source": [
    "#Fit logistic Regression Model\n",
    "log_reg = LogisticRegression()\n",
    "log_reg.fit(X_train, y_train)\n",
    "#Create prediction based on model\n",
    "y_pred = log_reg.predict(X_test)"
   ]
  },
  {
   "cell_type": "code",
   "execution_count": 72,
   "id": "3ded3d42",
   "metadata": {},
   "outputs": [
    {
     "data": {
      "text/plain": [
       "0.8385650224215246"
      ]
     },
     "execution_count": 72,
     "metadata": {},
     "output_type": "execute_result"
    }
   ],
   "source": [
    "#Check the accuarcy of the model\n",
    "accuracy_score(y_pred, y_test)"
   ]
  },
  {
   "cell_type": "code",
   "execution_count": 73,
   "id": "263b705a",
   "metadata": {},
   "outputs": [
    {
     "data": {
      "text/plain": [
       "array([[120,  17],\n",
       "       [ 19,  67]], dtype=int64)"
      ]
     },
     "execution_count": 73,
     "metadata": {},
     "output_type": "execute_result"
    }
   ],
   "source": [
    "#Create a confusion matrix\n",
    "confusion_matrix(y_pred, y_test)"
   ]
  },
  {
   "attachments": {
    "image.png": {
     "image/png": "[encoded data removed]"
    }
   },
   "cell_type": "markdown",
   "id": "a69ad2cf",
   "metadata": {},
   "source": [
    "###### ![image.png](attachment:image.png)"
   ]
  },
  {
   "cell_type": "markdown",
   "id": "c5b05bd2",
   "metadata": {},
   "source": [
    "###### ***120 True positives, 68 True negatives, 188 correctly predicted***\n",
    "###### ***19 False positives, 16 false negative, 35 incorrectly predicted***\n"
   ]
  },
  {
   "cell_type": "code",
   "execution_count": 74,
   "id": "83f30508",
   "metadata": {},
   "outputs": [
    {
     "name": "stdout",
     "output_type": "stream",
     "text": [
      "True Positives:  120\n",
      "False Negatives:  17\n",
      "False Positives:  19\n",
      "True Negatives:  67\n"
     ]
    }
   ],
   "source": [
    "tp, fn, fp, tn = confusion_matrix(y_pred, y_test).ravel()\n",
    "print(\"True Positives: \",tp)\n",
    "print(\"False Negatives: \",fn)\n",
    "print(\"False Positives: \",fp)\n",
    "print(\"True Negatives: \",tn)"
   ]
  },
  {
   "cell_type": "code",
   "execution_count": 75,
   "id": "497a00bc",
   "metadata": {},
   "outputs": [
    {
     "name": "stdout",
     "output_type": "stream",
     "text": [
      "0.8633093525179856\n"
     ]
    }
   ],
   "source": [
    "#Precision \n",
    "Precision = tp/(tp+fp) \n",
    "print(Precision)"
   ]
  },
  {
   "cell_type": "code",
   "execution_count": 76,
   "id": "10ae3e46",
   "metadata": {},
   "outputs": [
    {
     "name": "stdout",
     "output_type": "stream",
     "text": [
      "              precision    recall  f1-score   support\n",
      "\n",
      "           0       0.86      0.88      0.87       137\n",
      "           1       0.80      0.78      0.79        86\n",
      "\n",
      "    accuracy                           0.84       223\n",
      "   macro avg       0.83      0.83      0.83       223\n",
      "weighted avg       0.84      0.84      0.84       223\n",
      "\n"
     ]
    }
   ],
   "source": [
    "from sklearn.metrics import classification_report\n",
    "print(classification_report(y_pred, y_test))"
   ]
  },
  {
   "cell_type": "markdown",
   "id": "a62d7f09",
   "metadata": {},
   "source": [
    "###### ***Logistic Regression Model has an 84% accuarcy and a 86% precision***"
   ]
  },
  {
   "cell_type": "code",
   "execution_count": 77,
   "id": "f539f08f",
   "metadata": {},
   "outputs": [
    {
     "data": {
      "image/png": "[encoded data removed]",
      "text/plain": [
       "<Figure size 432x288 with 1 Axes>"
      ]
     },
     "metadata": {
      "needs_background": "light"
     },
     "output_type": "display_data"
    }
   ],
   "source": [
    "from sklearn.metrics import roc_auc_score\n",
    "from sklearn.metrics import roc_curve\n",
    "logit_roc_auc = roc_auc_score(y_test, log_reg.predict(X_test))\n",
    "fpr, tpr, thresholds = roc_curve(y_test, log_reg.predict_proba(X_test)[:,1])\n",
    "plt.figure()\n",
    "plt.plot(fpr, tpr, label='Logistic Regression (area = %0.2f)' % logit_roc_auc)\n",
    "plt.plot([0, 1], [0, 1],'r--')\n",
    "plt.xlim([0.0, 1.0])\n",
    "plt.ylim([0.0, 1.05])\n",
    "plt.xlabel('False Positive Rate')\n",
    "plt.ylabel('True Positive Rate')\n",
    "plt.title('Receiver operating characteristic')\n",
    "plt.legend(loc=\"lower right\")\n",
    "plt.savefig('Log_ROC')\n",
    "plt.show()"
   ]
  },
  {
   "cell_type": "code",
   "execution_count": 78,
   "id": "97d2997c",
   "metadata": {},
   "outputs": [
    {
     "data": {
      "text/plain": [
       "0.8304642000685166"
      ]
     },
     "execution_count": 78,
     "metadata": {},
     "output_type": "execute_result"
    }
   ],
   "source": [
    "roc_auc_score(y_test, log_reg.predict(X_test))"
   ]
  },
  {
   "cell_type": "markdown",
   "id": "4cb098f0",
   "metadata": {},
   "source": [
    "###### ***Area Under Curce Score of 83%***"
   ]
  },
  {
   "cell_type": "markdown",
   "id": "9c31b509",
   "metadata": {},
   "source": [
    "### Data Wrangling and Encoding the Test Data Set\n",
    "***"
   ]
  },
  {
   "cell_type": "code",
   "execution_count": 79,
   "id": "58b7144e",
   "metadata": {},
   "outputs": [
    {
     "data": {
      "text/plain": [
       "PassengerId      0\n",
       "Pclass           0\n",
       "Name             0\n",
       "Sex              0\n",
       "Age             86\n",
       "SibSp            0\n",
       "Parch            0\n",
       "Ticket           0\n",
       "Fare             1\n",
       "Cabin          327\n",
       "Embarked         0\n",
       "dtype: int64"
      ]
     },
     "execution_count": 79,
     "metadata": {},
     "output_type": "execute_result"
    }
   ],
   "source": [
    "#Check for missing values in the training dataset\n",
    "test.isnull().sum()\n"
   ]
  },
  {
   "cell_type": "code",
   "execution_count": 80,
   "id": "3ad79756",
   "metadata": {},
   "outputs": [
    {
     "data": {
      "text/html": [
       "<div>\n",
       "<style scoped>\n",
       "    .dataframe tbody tr th:only-of-type {\n",
       "        vertical-align: middle;\n",
       "    }\n",
       "\n",
       "    .dataframe tbody tr th {\n",
       "        vertical-align: top;\n",
       "    }\n",
       "\n",
       "    .dataframe thead th {\n",
       "        text-align: right;\n",
       "    }\n",
       "</style>\n",
       "<table border=\"1\" class=\"dataframe\">\n",
       "  <thead>\n",
       "    <tr style=\"text-align: right;\">\n",
       "      <th></th>\n",
       "      <th>Pclass</th>\n",
       "      <th>Age</th>\n",
       "    </tr>\n",
       "  </thead>\n",
       "  <tbody>\n",
       "    <tr>\n",
       "      <th>0</th>\n",
       "      <td>1</td>\n",
       "      <td>40.918367</td>\n",
       "    </tr>\n",
       "    <tr>\n",
       "      <th>1</th>\n",
       "      <td>2</td>\n",
       "      <td>28.777500</td>\n",
       "    </tr>\n",
       "    <tr>\n",
       "      <th>2</th>\n",
       "      <td>3</td>\n",
       "      <td>24.027945</td>\n",
       "    </tr>\n",
       "  </tbody>\n",
       "</table>\n",
       "</div>"
      ],
      "text/plain": [
       "   Pclass        Age\n",
       "0       1  40.918367\n",
       "1       2  28.777500\n",
       "2       3  24.027945"
      ]
     },
     "execution_count": 80,
     "metadata": {},
     "output_type": "execute_result"
    }
   ],
   "source": [
    "#Find the average age grouped by 'Pclass'\n",
    "test.groupby('Pclass', as_index=False)['Age'].mean()"
   ]
  },
  {
   "cell_type": "code",
   "execution_count": 81,
   "id": "28b49e96",
   "metadata": {},
   "outputs": [],
   "source": [
    "#Impute missing Ages based on 'Pclass' mean\n",
    "test['Age'] = test['Age'].fillna(test.groupby('Pclass')['Age'].transform('mean'))"
   ]
  },
  {
   "cell_type": "code",
   "execution_count": 82,
   "id": "ece20933",
   "metadata": {},
   "outputs": [],
   "source": [
    "#Create new varaible 'Deck' based on 'Cabin' variable to keep only the initial Letter and missing values as 'M'\n",
    "test['Deck'] = test['Cabin'].str[0]\n",
    "test['Deck']=test['Deck'].fillna('M')"
   ]
  },
  {
   "cell_type": "code",
   "execution_count": 83,
   "id": "831a4983",
   "metadata": {},
   "outputs": [
    {
     "data": {
      "text/plain": [
       "M              327\n",
       "Upper Deck      60\n",
       "Middle Deck     22\n",
       "Lower Deck       9\n",
       "Name: Deck, dtype: int64"
      ]
     },
     "execution_count": 83,
     "metadata": {},
     "output_type": "execute_result"
    }
   ],
   "source": [
    "test['Deck'] = test['Deck'].replace(['A','B','C','T'], 'Upper Deck')\n",
    "test['Deck'] = test['Deck'].replace(['D','E'], 'Middle Deck')\n",
    "test['Deck'] = test['Deck'].replace(['F','G'], 'Lower Deck')\n",
    "test['Deck'].value_counts()"
   ]
  },
  {
   "cell_type": "code",
   "execution_count": 84,
   "id": "8eae1620",
   "metadata": {},
   "outputs": [
    {
     "data": {
      "text/html": [
       "<div>\n",
       "<style scoped>\n",
       "    .dataframe tbody tr th:only-of-type {\n",
       "        vertical-align: middle;\n",
       "    }\n",
       "\n",
       "    .dataframe tbody tr th {\n",
       "        vertical-align: top;\n",
       "    }\n",
       "\n",
       "    .dataframe thead th {\n",
       "        text-align: right;\n",
       "    }\n",
       "</style>\n",
       "<table border=\"1\" class=\"dataframe\">\n",
       "  <thead>\n",
       "    <tr style=\"text-align: right;\">\n",
       "      <th></th>\n",
       "      <th>PassengerId</th>\n",
       "      <th>Pclass</th>\n",
       "      <th>Name</th>\n",
       "      <th>Sex</th>\n",
       "      <th>Age</th>\n",
       "      <th>SibSp</th>\n",
       "      <th>Parch</th>\n",
       "      <th>Ticket</th>\n",
       "      <th>Fare</th>\n",
       "      <th>Cabin</th>\n",
       "      <th>Embarked</th>\n",
       "      <th>Deck</th>\n",
       "    </tr>\n",
       "  </thead>\n",
       "  <tbody>\n",
       "    <tr>\n",
       "      <th>152</th>\n",
       "      <td>1044</td>\n",
       "      <td>3</td>\n",
       "      <td>Storey, Mr. Thomas</td>\n",
       "      <td>male</td>\n",
       "      <td>60.5</td>\n",
       "      <td>0</td>\n",
       "      <td>0</td>\n",
       "      <td>3701</td>\n",
       "      <td>NaN</td>\n",
       "      <td>NaN</td>\n",
       "      <td>S</td>\n",
       "      <td>M</td>\n",
       "    </tr>\n",
       "  </tbody>\n",
       "</table>\n",
       "</div>"
      ],
      "text/plain": [
       "     PassengerId  Pclass                Name   Sex   Age  SibSp  Parch Ticket  \\\n",
       "152         1044       3  Storey, Mr. Thomas  male  60.5      0      0   3701   \n",
       "\n",
       "     Fare Cabin Embarked Deck  \n",
       "152   NaN   NaN        S    M  "
      ]
     },
     "execution_count": 84,
     "metadata": {},
     "output_type": "execute_result"
    }
   ],
   "source": [
    "test.loc[test['Fare'].isnull()]"
   ]
  },
  {
   "cell_type": "code",
   "execution_count": 85,
   "id": "2758fe9f",
   "metadata": {},
   "outputs": [
    {
     "data": {
      "text/html": [
       "<div>\n",
       "<style scoped>\n",
       "    .dataframe tbody tr th:only-of-type {\n",
       "        vertical-align: middle;\n",
       "    }\n",
       "\n",
       "    .dataframe tbody tr th {\n",
       "        vertical-align: top;\n",
       "    }\n",
       "\n",
       "    .dataframe thead th {\n",
       "        text-align: right;\n",
       "    }\n",
       "</style>\n",
       "<table border=\"1\" class=\"dataframe\">\n",
       "  <thead>\n",
       "    <tr style=\"text-align: right;\">\n",
       "      <th></th>\n",
       "      <th>Pclass</th>\n",
       "      <th>Fare</th>\n",
       "    </tr>\n",
       "  </thead>\n",
       "  <tbody>\n",
       "    <tr>\n",
       "      <th>0</th>\n",
       "      <td>1</td>\n",
       "      <td>94.280297</td>\n",
       "    </tr>\n",
       "    <tr>\n",
       "      <th>1</th>\n",
       "      <td>2</td>\n",
       "      <td>22.202104</td>\n",
       "    </tr>\n",
       "    <tr>\n",
       "      <th>2</th>\n",
       "      <td>3</td>\n",
       "      <td>12.459678</td>\n",
       "    </tr>\n",
       "  </tbody>\n",
       "</table>\n",
       "</div>"
      ],
      "text/plain": [
       "   Pclass       Fare\n",
       "0       1  94.280297\n",
       "1       2  22.202104\n",
       "2       3  12.459678"
      ]
     },
     "execution_count": 85,
     "metadata": {},
     "output_type": "execute_result"
    }
   ],
   "source": [
    "test.groupby('Pclass', as_index=False)['Fare'].mean()"
   ]
  },
  {
   "cell_type": "code",
   "execution_count": 86,
   "id": "623269b9",
   "metadata": {},
   "outputs": [],
   "source": [
    "test['Fare']=test['Fare'].fillna(12.45)"
   ]
  },
  {
   "cell_type": "code",
   "execution_count": 87,
   "id": "474411aa",
   "metadata": {},
   "outputs": [
    {
     "data": {
      "text/plain": [
       "PassengerId      0\n",
       "Pclass           0\n",
       "Name             0\n",
       "Sex              0\n",
       "Age              0\n",
       "SibSp            0\n",
       "Parch            0\n",
       "Ticket           0\n",
       "Fare             0\n",
       "Cabin          327\n",
       "Embarked         0\n",
       "Deck             0\n",
       "dtype: int64"
      ]
     },
     "execution_count": 87,
     "metadata": {},
     "output_type": "execute_result"
    }
   ],
   "source": [
    "test.isnull().sum()"
   ]
  },
  {
   "cell_type": "code",
   "execution_count": 88,
   "id": "90483b8b",
   "metadata": {},
   "outputs": [],
   "source": [
    "#Use dataframe.cut() to bin 'Age' based on specificed Bin amount\n",
    "test['Age'] = pd.cut(test['Age'].astype(int), 5)"
   ]
  },
  {
   "cell_type": "code",
   "execution_count": 89,
   "id": "53c292e4",
   "metadata": {},
   "outputs": [],
   "source": [
    "test['Fare'] = pd.qcut(test['Fare'].astype(int), 5)"
   ]
  },
  {
   "cell_type": "code",
   "execution_count": 90,
   "id": "b4956552",
   "metadata": {},
   "outputs": [
    {
     "data": {
      "text/plain": [
       "1     253\n",
       "2      74\n",
       "3      57\n",
       "4      14\n",
       "5       7\n",
       "7       4\n",
       "11      4\n",
       "6       3\n",
       "8       2\n",
       "Name: Family Size, dtype: int64"
      ]
     },
     "execution_count": 90,
     "metadata": {},
     "output_type": "execute_result"
    }
   ],
   "source": [
    "test['Family Size'] = test['SibSp'] + test['Parch'] + 1\n",
    "test['Family Size'].value_counts()"
   ]
  },
  {
   "cell_type": "code",
   "execution_count": 91,
   "id": "bc2c2f5b",
   "metadata": {},
   "outputs": [
    {
     "data": {
      "text/plain": [
       "1    253\n",
       "2     74\n",
       "3     71\n",
       "4     20\n",
       "Name: Family Bin, dtype: int64"
      ]
     },
     "execution_count": 91,
     "metadata": {},
     "output_type": "execute_result"
    }
   ],
   "source": [
    "test['Family Bin'] = test['Family Size'].map(lambda s: 1 if s == 1 else (2 if s == 2 else (3 if 3 <= s <= 4 else (4 if s >= 5 else 0))))\n",
    "test['Family Bin'].value_counts()"
   ]
  },
  {
   "cell_type": "code",
   "execution_count": 92,
   "id": "3c9956c8",
   "metadata": {},
   "outputs": [
    {
     "data": {
      "text/plain": [
       "1    321\n",
       "2     66\n",
       "3     18\n",
       "4      8\n",
       "5      5\n",
       "Name: Ticket Frequency, dtype: int64"
      ]
     },
     "execution_count": 92,
     "metadata": {},
     "output_type": "execute_result"
    }
   ],
   "source": [
    "test['Ticket Frequency'] = test.groupby('Ticket')['Ticket'].transform('count')\n",
    "test['Ticket Frequency'].value_counts()"
   ]
  },
  {
   "cell_type": "code",
   "execution_count": 93,
   "id": "f22dc9c1",
   "metadata": {},
   "outputs": [
    {
     "data": {
      "text/plain": [
       "Mr        240\n",
       "Miss       78\n",
       "Mrs        72\n",
       "Master     21\n",
       "Col         2\n",
       "Rev         2\n",
       "Ms          1\n",
       "Dr          1\n",
       "Dona        1\n",
       "Name: Title, dtype: int64"
      ]
     },
     "execution_count": 93,
     "metadata": {},
     "output_type": "execute_result"
    }
   ],
   "source": [
    "#Extract title from 'Name' variable to look at Marriage status\n",
    "test['Title'] = test['Name'].str.split(', ', expand=True)[1].str.split('.', expand=True)[0]\n",
    "test['Title'].value_counts()"
   ]
  },
  {
   "cell_type": "code",
   "execution_count": 94,
   "id": "5622cd72",
   "metadata": {},
   "outputs": [],
   "source": [
    "#Create \"Married\" varaible counts all titles with 'Mrs'\n",
    "#Create empty variable and populate with 0 and replace with 1 if Title is 'Mrs'\n",
    "test['Married'] = 0\n",
    "test['Married'] = test['Married'].loc[test['Title'] == 'Mrs'] == 1"
   ]
  },
  {
   "cell_type": "code",
   "execution_count": 95,
   "id": "5bfaec5e",
   "metadata": {},
   "outputs": [
    {
     "data": {
      "text/plain": [
       "Title\n",
       "Master     21\n",
       "Misc        7\n",
       "Miss       78\n",
       "Mr        240\n",
       "Mrs        72\n",
       "Name: Title, dtype: int64"
      ]
     },
     "execution_count": 95,
     "metadata": {},
     "output_type": "execute_result"
    }
   ],
   "source": [
    "#Collapse titles with frequency less than 10\n",
    "Misc = (test['Title']).value_counts() < 10\n",
    "test['Title'] = test['Title'].apply(lambda x: 'Misc' if Misc.loc[x] == True else x)\n",
    "test.groupby('Title')['Title'].count()"
   ]
  },
  {
   "cell_type": "code",
   "execution_count": 96,
   "id": "ca5e0011",
   "metadata": {},
   "outputs": [],
   "source": [
    "test['Sex'] = LabelEncoder().fit_transform(test['Sex'])\n",
    "test['Embarked'] = LabelEncoder().fit_transform(test['Embarked'])\n",
    "test['Title'] = LabelEncoder().fit_transform(test['Title'])\n",
    "test['Deck'] = LabelEncoder().fit_transform(test['Deck'])\n",
    "test['Fare'] = LabelEncoder().fit_transform(test['Fare'])\n",
    "test['Age'] = LabelEncoder().fit_transform(test['Age'])\n",
    "test['Married'] = LabelEncoder().fit_transform(test['Married'])"
   ]
  },
  {
   "cell_type": "code",
   "execution_count": 97,
   "id": "5034ab79",
   "metadata": {},
   "outputs": [],
   "source": [
    "categories = ['Pclass', 'Sex', 'Embarked', 'Title', 'Deck', 'Family Bin', 'Age', 'Fare']\n",
    "encoded_features = []\n",
    "\n",
    "for feature in categories:\n",
    "    encoded_feat = OneHotEncoder().fit_transform(test[feature].values.reshape(-1, 1 )).toarray()\n",
    "    n = test[feature].nunique()\n",
    "    cols = ['{}_{}'.format(feature, n) for n in range(1, n+1)]\n",
    "    encoded_df = pd.DataFrame(encoded_feat, columns=cols)\n",
    "    encoded_df.index = test.index\n",
    "    encoded_features.append(encoded_df)\n",
    "    \n",
    "test = pd.concat([test, *encoded_features], axis=1)"
   ]
  },
  {
   "cell_type": "code",
   "execution_count": 98,
   "id": "9711ae33",
   "metadata": {},
   "outputs": [],
   "source": [
    "#Drop Columns testing data set will not use to model\n",
    "drop_1 = ['Pclass', 'Sex', 'Embarked', 'Title', 'Deck', 'Family Bin', 'Age', 'Fare', 'PassengerId', 'Name', 'SibSp',\n",
    "       'Parch','Ticket', 'Cabin', 'Family Size']\n",
    "PassengerId = pd.DataFrame(test['PassengerId'])\n",
    "Sub_Test = test.drop(drop_1, axis = 1)"
   ]
  },
  {
   "cell_type": "code",
   "execution_count": 99,
   "id": "eb78aedc",
   "metadata": {},
   "outputs": [
    {
     "data": {
      "text/plain": [
       "array([0, 1, 0, 0, 1, 0, 1, 0, 1, 0, 0, 0, 1, 0, 1, 1, 0, 0, 1, 1, 0, 1,\n",
       "       1, 0, 1, 0, 1, 0, 0, 0, 0, 0, 1, 1, 0, 0, 1, 1, 0, 0, 0, 0, 0, 1,\n",
       "       1, 0, 0, 0, 1, 1, 0, 0, 1, 1, 0, 0, 0, 0, 0, 1, 0, 0, 0, 1, 1, 1,\n",
       "       1, 0, 0, 1, 1, 0, 1, 1, 1, 0, 0, 1, 0, 1, 1, 0, 0, 0, 0, 0, 1, 1,\n",
       "       1, 1, 1, 0, 1, 0, 0, 0, 1, 0, 1, 0, 1, 0, 0, 0, 1, 0, 0, 0, 0, 0,\n",
       "       0, 1, 1, 1, 1, 0, 0, 1, 0, 1, 1, 0, 1, 0, 0, 1, 0, 1, 0, 0, 0, 1,\n",
       "       0, 0, 0, 0, 0, 0, 1, 0, 0, 1, 0, 0, 0, 0, 1, 0, 0, 0, 1, 0, 0, 1,\n",
       "       0, 0, 1, 1, 0, 1, 1, 1, 1, 0, 0, 1, 0, 0, 1, 1, 0, 0, 0, 0, 0, 1,\n",
       "       1, 0, 1, 1, 0, 1, 1, 0, 1, 0, 1, 0, 0, 0, 0, 0, 1, 0, 1, 0, 1, 1,\n",
       "       0, 1, 1, 1, 1, 1, 0, 0, 1, 0, 1, 0, 0, 0, 0, 1, 0, 0, 1, 0, 1, 0,\n",
       "       1, 0, 1, 0, 1, 1, 0, 1, 0, 0, 0, 1, 0, 0, 0, 0, 0, 0, 1, 1, 1, 1,\n",
       "       1, 0, 1, 0, 1, 0, 1, 1, 1, 0, 0, 0, 0, 0, 0, 0, 1, 0, 0, 0, 1, 1,\n",
       "       0, 0, 0, 0, 1, 0, 0, 0, 1, 1, 0, 1, 0, 0, 0, 0, 1, 1, 1, 1, 1, 0,\n",
       "       0, 0, 0, 0, 0, 1, 0, 0, 0, 0, 1, 0, 0, 0, 0, 1, 0, 0, 1, 1, 0, 1,\n",
       "       0, 1, 0, 0, 0, 1, 1, 1, 0, 0, 0, 0, 0, 0, 0, 0, 1, 0, 1, 0, 0, 0,\n",
       "       1, 0, 0, 1, 0, 0, 0, 0, 0, 1, 0, 0, 0, 1, 1, 1, 0, 1, 0, 1, 1, 0,\n",
       "       0, 0, 1, 0, 1, 0, 0, 1, 0, 1, 1, 0, 1, 0, 0, 1, 1, 0, 0, 1, 0, 0,\n",
       "       1, 1, 1, 0, 0, 0, 0, 0, 1, 1, 0, 1, 0, 0, 0, 0, 0, 1, 1, 0, 0, 1,\n",
       "       0, 1, 0, 0, 1, 0, 1, 0, 1, 1, 0, 0, 1, 1, 1, 1, 1, 0, 1, 0, 0, 1],\n",
       "      dtype=int64)"
      ]
     },
     "execution_count": 99,
     "metadata": {},
     "output_type": "execute_result"
    }
   ],
   "source": [
    "Sub_Pred = log_reg.predict(Sub_Test)\n",
    "Sub_Pred"
   ]
  },
  {
   "cell_type": "code",
   "execution_count": 100,
   "id": "a8a7199c",
   "metadata": {},
   "outputs": [],
   "source": [
    "Survived = Sub_Pred.tolist()"
   ]
  },
  {
   "cell_type": "code",
   "execution_count": 101,
   "id": "c32ba391",
   "metadata": {},
   "outputs": [
    {
     "data": {
      "text/html": [
       "<div>\n",
       "<style scoped>\n",
       "    .dataframe tbody tr th:only-of-type {\n",
       "        vertical-align: middle;\n",
       "    }\n",
       "\n",
       "    .dataframe tbody tr th {\n",
       "        vertical-align: top;\n",
       "    }\n",
       "\n",
       "    .dataframe thead th {\n",
       "        text-align: right;\n",
       "    }\n",
       "</style>\n",
       "<table border=\"1\" class=\"dataframe\">\n",
       "  <thead>\n",
       "    <tr style=\"text-align: right;\">\n",
       "      <th></th>\n",
       "      <th>PassengerId</th>\n",
       "      <th>Survived</th>\n",
       "    </tr>\n",
       "  </thead>\n",
       "  <tbody>\n",
       "    <tr>\n",
       "      <th>0</th>\n",
       "      <td>892</td>\n",
       "      <td>0</td>\n",
       "    </tr>\n",
       "    <tr>\n",
       "      <th>1</th>\n",
       "      <td>893</td>\n",
       "      <td>1</td>\n",
       "    </tr>\n",
       "    <tr>\n",
       "      <th>2</th>\n",
       "      <td>894</td>\n",
       "      <td>0</td>\n",
       "    </tr>\n",
       "    <tr>\n",
       "      <th>3</th>\n",
       "      <td>895</td>\n",
       "      <td>0</td>\n",
       "    </tr>\n",
       "    <tr>\n",
       "      <th>4</th>\n",
       "      <td>896</td>\n",
       "      <td>1</td>\n",
       "    </tr>\n",
       "    <tr>\n",
       "      <th>...</th>\n",
       "      <td>...</td>\n",
       "      <td>...</td>\n",
       "    </tr>\n",
       "    <tr>\n",
       "      <th>413</th>\n",
       "      <td>1305</td>\n",
       "      <td>0</td>\n",
       "    </tr>\n",
       "    <tr>\n",
       "      <th>414</th>\n",
       "      <td>1306</td>\n",
       "      <td>1</td>\n",
       "    </tr>\n",
       "    <tr>\n",
       "      <th>415</th>\n",
       "      <td>1307</td>\n",
       "      <td>0</td>\n",
       "    </tr>\n",
       "    <tr>\n",
       "      <th>416</th>\n",
       "      <td>1308</td>\n",
       "      <td>0</td>\n",
       "    </tr>\n",
       "    <tr>\n",
       "      <th>417</th>\n",
       "      <td>1309</td>\n",
       "      <td>1</td>\n",
       "    </tr>\n",
       "  </tbody>\n",
       "</table>\n",
       "<p>418 rows × 2 columns</p>\n",
       "</div>"
      ],
      "text/plain": [
       "     PassengerId  Survived\n",
       "0            892         0\n",
       "1            893         1\n",
       "2            894         0\n",
       "3            895         0\n",
       "4            896         1\n",
       "..           ...       ...\n",
       "413         1305         0\n",
       "414         1306         1\n",
       "415         1307         0\n",
       "416         1308         0\n",
       "417         1309         1\n",
       "\n",
       "[418 rows x 2 columns]"
      ]
     },
     "execution_count": 101,
     "metadata": {},
     "output_type": "execute_result"
    }
   ],
   "source": [
    "PassengerId['Survived'] = Survived\n",
    "PassengerId"
   ]
  },
  {
   "cell_type": "code",
   "execution_count": 102,
   "id": "796e4dd3",
   "metadata": {},
   "outputs": [],
   "source": [
    "PassengerId.to_csv(r'D:\\Downloads\\Python\\Titanic Project\\Submission_Logisitc_Regresssion.csv', index = False, header = True)"
   ]
  },
  {
   "cell_type": "markdown",
   "id": "9626de50",
   "metadata": {},
   "source": [
    "## Random Forest Classifier\n",
    "***"
   ]
  },
  {
   "cell_type": "code",
   "execution_count": 103,
   "id": "9aa10f3d",
   "metadata": {},
   "outputs": [],
   "source": [
    "#Initialize Random Forest Classifier\n",
    "#Standarize variables\n",
    "from sklearn.preprocessing import StandardScaler\n",
    "\n",
    "#Drop Columns training data set will not use to model\n",
    "drop = ['Pclass', 'Sex', 'Embarked', 'Title', 'Deck', 'Family Bin', 'Age', 'Fare', 'PassengerId', 'Name', 'SibSp',\n",
    "       'Parch','Ticket', 'Cabin', 'Family Size', 'Survived']\n",
    "\n",
    "\n",
    "X_RFC = StandardScaler().fit_transform(train.drop(columns=drop))\n",
    "y_RFC = train['Survived'].values"
   ]
  },
  {
   "cell_type": "code",
   "execution_count": 104,
   "id": "1cf60bfc",
   "metadata": {},
   "outputs": [],
   "source": [
    "#Creating Training and Test Splits, same as logisitc regressssion split\n",
    "#Split training dataset by 75% training and 25% testing\n",
    "X_train, X_test1, y_tr1ain, y_test1 = train_test_split(X_RFC, y_RFC, test_size = 0.25, random_state = 0)"
   ]
  },
  {
   "cell_type": "code",
   "execution_count": 105,
   "id": "df75b06f",
   "metadata": {},
   "outputs": [],
   "source": [
    "#Define Model Parameters\n",
    "from sklearn.ensemble import RandomForestClassifier\n",
    "model = RandomForestClassifier(criterion = 'gini',\n",
    "                                              n_estimators = 1750,\n",
    "                                              max_depth=7,\n",
    "                                              min_samples_split=6,\n",
    "                                              min_samples_leaf=6,\n",
    "                                              max_features='auto',\n",
    "                                              oob_score=True,\n",
    "                                              random_state=42,\n",
    "                                              n_jobs=-1,\n",
    "                                              verbose=1)"
   ]
  },
  {
   "cell_type": "code",
   "execution_count": 106,
   "id": "da092dde",
   "metadata": {},
   "outputs": [
    {
     "name": "stderr",
     "output_type": "stream",
     "text": [
      "[Parallel(n_jobs=-1)]: Using backend ThreadingBackend with 8 concurrent workers.\n",
      "[Parallel(n_jobs=-1)]: Done  34 tasks      | elapsed:    0.0s\n",
      "[Parallel(n_jobs=-1)]: Done 184 tasks      | elapsed:    0.1s\n",
      "[Parallel(n_jobs=-1)]: Done 434 tasks      | elapsed:    0.3s\n",
      "[Parallel(n_jobs=-1)]: Done 784 tasks      | elapsed:    0.6s\n",
      "[Parallel(n_jobs=-1)]: Done 1234 tasks      | elapsed:    0.9s\n",
      "[Parallel(n_jobs=-1)]: Done 1750 out of 1750 | elapsed:    1.4s finished\n"
     ]
    },
    {
     "data": {
      "text/plain": [
       "RandomForestClassifier(max_depth=7, min_samples_leaf=6, min_samples_split=6,\n",
       "                       n_estimators=1750, n_jobs=-1, oob_score=True,\n",
       "                       random_state=42, verbose=1)"
      ]
     },
     "execution_count": 106,
     "metadata": {},
     "output_type": "execute_result"
    }
   ],
   "source": [
    "#Fit the Random Forest Classifier model\n",
    "model.fit(X_train, y_train)"
   ]
  },
  {
   "cell_type": "code",
   "execution_count": 107,
   "id": "a4449939",
   "metadata": {},
   "outputs": [
    {
     "name": "stderr",
     "output_type": "stream",
     "text": [
      "[Parallel(n_jobs=8)]: Using backend ThreadingBackend with 8 concurrent workers.\n",
      "[Parallel(n_jobs=8)]: Done  34 tasks      | elapsed:    0.0s\n",
      "[Parallel(n_jobs=8)]: Done 184 tasks      | elapsed:    0.0s\n",
      "[Parallel(n_jobs=8)]: Done 434 tasks      | elapsed:    0.0s\n",
      "[Parallel(n_jobs=8)]: Done 784 tasks      | elapsed:    0.0s\n",
      "[Parallel(n_jobs=8)]: Done 1234 tasks      | elapsed:    0.0s\n",
      "[Parallel(n_jobs=8)]: Done 1750 out of 1750 | elapsed:    0.1s finished\n"
     ]
    },
    {
     "data": {
      "text/plain": [
       "0.8251121076233184"
      ]
     },
     "execution_count": 107,
     "metadata": {},
     "output_type": "execute_result"
    }
   ],
   "source": [
    "#score the model\n",
    "model.score(X_test1, y_test1)"
   ]
  },
  {
   "cell_type": "markdown",
   "id": "68516b40",
   "metadata": {},
   "source": [
    "###### ***Model Accuarcy is 83%***"
   ]
  },
  {
   "cell_type": "code",
   "execution_count": 108,
   "id": "8116fe87",
   "metadata": {},
   "outputs": [
    {
     "name": "stderr",
     "output_type": "stream",
     "text": [
      "[Parallel(n_jobs=8)]: Using backend ThreadingBackend with 8 concurrent workers.\n",
      "[Parallel(n_jobs=8)]: Done  34 tasks      | elapsed:    0.0s\n",
      "[Parallel(n_jobs=8)]: Done 184 tasks      | elapsed:    0.0s\n",
      "[Parallel(n_jobs=8)]: Done 434 tasks      | elapsed:    0.0s\n",
      "[Parallel(n_jobs=8)]: Done 784 tasks      | elapsed:    0.0s\n",
      "[Parallel(n_jobs=8)]: Done 1234 tasks      | elapsed:    0.0s\n",
      "[Parallel(n_jobs=8)]: Done 1750 out of 1750 | elapsed:    0.1s finished\n"
     ]
    }
   ],
   "source": [
    "model_predict = model.predict(X_test1)"
   ]
  },
  {
   "cell_type": "code",
   "execution_count": 109,
   "id": "fb0a5531",
   "metadata": {},
   "outputs": [
    {
     "name": "stdout",
     "output_type": "stream",
     "text": [
      "True Positives:  121\n",
      "False Negatives:  18\n",
      "False Positives:  21\n",
      "True Negatives:  63\n"
     ]
    }
   ],
   "source": [
    "#Confusion Matrix\n",
    "tp, fn, fp, tn = confusion_matrix(y_test1, model_predict).ravel()\n",
    "print(\"True Positives: \",tp)\n",
    "print(\"False Negatives: \",fn)\n",
    "print(\"False Positives: \",fp)\n",
    "print(\"True Negatives: \",tn)"
   ]
  },
  {
   "cell_type": "code",
   "execution_count": 110,
   "id": "1996596d",
   "metadata": {},
   "outputs": [
    {
     "name": "stdout",
     "output_type": "stream",
     "text": [
      "              precision    recall  f1-score   support\n",
      "\n",
      "           0       0.85      0.87      0.86       139\n",
      "           1       0.78      0.75      0.76        84\n",
      "\n",
      "    accuracy                           0.83       223\n",
      "   macro avg       0.81      0.81      0.81       223\n",
      "weighted avg       0.82      0.83      0.82       223\n",
      "\n"
     ]
    }
   ],
   "source": [
    "#Classification Report\n",
    "print(classification_report(y_test1, model_predict))"
   ]
  },
  {
   "cell_type": "code",
   "execution_count": 111,
   "id": "ec7b74d5",
   "metadata": {},
   "outputs": [
    {
     "name": "stderr",
     "output_type": "stream",
     "text": [
      "[Parallel(n_jobs=-1)]: Using backend LokyBackend with 8 concurrent workers.\n",
      "[Parallel(n_jobs=-1)]: Done  34 tasks      | elapsed:    1.4s\n",
      "[Parallel(n_jobs=-1)]: Done 1656 tasks      | elapsed:    1.8s\n",
      "[Parallel(n_jobs=-1)]: Done 1750 out of 1750 | elapsed:    1.9s finished\n",
      "[Parallel(n_jobs=8)]: Using backend ThreadingBackend with 8 concurrent workers.\n",
      "[Parallel(n_jobs=8)]: Done  34 tasks      | elapsed:    0.0s\n",
      "[Parallel(n_jobs=8)]: Done 184 tasks      | elapsed:    0.0s\n",
      "[Parallel(n_jobs=8)]: Done 434 tasks      | elapsed:    0.0s\n",
      "[Parallel(n_jobs=8)]: Done 784 tasks      | elapsed:    0.0s\n",
      "[Parallel(n_jobs=8)]: Done 1234 tasks      | elapsed:    0.0s\n",
      "[Parallel(n_jobs=8)]: Done 1750 out of 1750 | elapsed:    0.1s finished\n",
      "[Parallel(n_jobs=-1)]: Using backend LokyBackend with 8 concurrent workers.\n",
      "[Parallel(n_jobs=-1)]: Done  56 tasks      | elapsed:    0.0s\n",
      "[Parallel(n_jobs=-1)]: Done 1680 tasks      | elapsed:    0.3s\n",
      "[Parallel(n_jobs=-1)]: Done 1750 out of 1750 | elapsed:    0.3s finished\n",
      "[Parallel(n_jobs=8)]: Using backend ThreadingBackend with 8 concurrent workers.\n",
      "[Parallel(n_jobs=8)]: Done  34 tasks      | elapsed:    0.0s\n",
      "[Parallel(n_jobs=8)]: Done 184 tasks      | elapsed:    0.0s\n",
      "[Parallel(n_jobs=8)]: Done 434 tasks      | elapsed:    0.0s\n",
      "[Parallel(n_jobs=8)]: Done 784 tasks      | elapsed:    0.0s\n",
      "[Parallel(n_jobs=8)]: Done 1234 tasks      | elapsed:    0.0s\n",
      "[Parallel(n_jobs=8)]: Done 1750 out of 1750 | elapsed:    0.1s finished\n",
      "[Parallel(n_jobs=-1)]: Using backend LokyBackend with 8 concurrent workers.\n",
      "[Parallel(n_jobs=-1)]: Done  56 tasks      | elapsed:    0.0s\n",
      "[Parallel(n_jobs=-1)]: Done 1680 tasks      | elapsed:    0.3s\n",
      "[Parallel(n_jobs=-1)]: Done 1750 out of 1750 | elapsed:    0.3s finished\n",
      "[Parallel(n_jobs=8)]: Using backend ThreadingBackend with 8 concurrent workers.\n",
      "[Parallel(n_jobs=8)]: Done  34 tasks      | elapsed:    0.0s\n",
      "[Parallel(n_jobs=8)]: Done 184 tasks      | elapsed:    0.0s\n",
      "[Parallel(n_jobs=8)]: Done 434 tasks      | elapsed:    0.0s\n",
      "[Parallel(n_jobs=8)]: Done 784 tasks      | elapsed:    0.0s\n",
      "[Parallel(n_jobs=8)]: Done 1234 tasks      | elapsed:    0.0s\n",
      "[Parallel(n_jobs=8)]: Done 1750 out of 1750 | elapsed:    0.1s finished\n",
      "[Parallel(n_jobs=-1)]: Using backend LokyBackend with 8 concurrent workers.\n",
      "[Parallel(n_jobs=-1)]: Done  56 tasks      | elapsed:    0.0s\n",
      "[Parallel(n_jobs=-1)]: Done 1680 tasks      | elapsed:    0.3s\n",
      "[Parallel(n_jobs=-1)]: Done 1750 out of 1750 | elapsed:    0.4s finished\n",
      "[Parallel(n_jobs=8)]: Using backend ThreadingBackend with 8 concurrent workers.\n",
      "[Parallel(n_jobs=8)]: Done  34 tasks      | elapsed:    0.0s\n",
      "[Parallel(n_jobs=8)]: Done 184 tasks      | elapsed:    0.0s\n",
      "[Parallel(n_jobs=8)]: Done 434 tasks      | elapsed:    0.0s\n",
      "[Parallel(n_jobs=8)]: Done 784 tasks      | elapsed:    0.0s\n",
      "[Parallel(n_jobs=8)]: Done 1234 tasks      | elapsed:    0.0s\n",
      "[Parallel(n_jobs=8)]: Done 1750 out of 1750 | elapsed:    0.1s finished\n",
      "[Parallel(n_jobs=-1)]: Using backend LokyBackend with 8 concurrent workers.\n",
      "[Parallel(n_jobs=-1)]: Done  56 tasks      | elapsed:    0.0s\n",
      "[Parallel(n_jobs=-1)]: Done 1680 tasks      | elapsed:    0.4s\n",
      "[Parallel(n_jobs=-1)]: Done 1750 out of 1750 | elapsed:    0.4s finished\n",
      "[Parallel(n_jobs=8)]: Using backend ThreadingBackend with 8 concurrent workers.\n",
      "[Parallel(n_jobs=8)]: Done  34 tasks      | elapsed:    0.0s\n",
      "[Parallel(n_jobs=8)]: Done 184 tasks      | elapsed:    0.0s\n",
      "[Parallel(n_jobs=8)]: Done 434 tasks      | elapsed:    0.0s\n",
      "[Parallel(n_jobs=8)]: Done 784 tasks      | elapsed:    0.0s\n",
      "[Parallel(n_jobs=8)]: Done 1234 tasks      | elapsed:    0.1s\n",
      "[Parallel(n_jobs=8)]: Done 1750 out of 1750 | elapsed:    0.1s finished\n",
      "[Parallel(n_jobs=-1)]: Using backend LokyBackend with 8 concurrent workers.\n",
      "[Parallel(n_jobs=-1)]: Done  56 tasks      | elapsed:    0.0s\n",
      "[Parallel(n_jobs=-1)]: Done 1680 tasks      | elapsed:    0.3s\n",
      "[Parallel(n_jobs=-1)]: Done 1750 out of 1750 | elapsed:    0.4s finished\n",
      "[Parallel(n_jobs=8)]: Using backend ThreadingBackend with 8 concurrent workers.\n",
      "[Parallel(n_jobs=8)]: Done  34 tasks      | elapsed:    0.0s\n",
      "[Parallel(n_jobs=8)]: Done 184 tasks      | elapsed:    0.0s\n",
      "[Parallel(n_jobs=8)]: Done 434 tasks      | elapsed:    0.0s\n",
      "[Parallel(n_jobs=8)]: Done 784 tasks      | elapsed:    0.0s\n",
      "[Parallel(n_jobs=8)]: Done 1234 tasks      | elapsed:    0.0s\n",
      "[Parallel(n_jobs=8)]: Done 1750 out of 1750 | elapsed:    0.1s finished\n",
      "[Parallel(n_jobs=-1)]: Using backend LokyBackend with 8 concurrent workers.\n",
      "[Parallel(n_jobs=-1)]: Done  56 tasks      | elapsed:    0.0s\n",
      "[Parallel(n_jobs=-1)]: Done 1680 tasks      | elapsed:    0.3s\n",
      "[Parallel(n_jobs=-1)]: Done 1750 out of 1750 | elapsed:    0.4s finished\n",
      "[Parallel(n_jobs=8)]: Using backend ThreadingBackend with 8 concurrent workers.\n",
      "[Parallel(n_jobs=8)]: Done  34 tasks      | elapsed:    0.0s\n",
      "[Parallel(n_jobs=8)]: Done 184 tasks      | elapsed:    0.0s\n",
      "[Parallel(n_jobs=8)]: Done 434 tasks      | elapsed:    0.0s\n",
      "[Parallel(n_jobs=8)]: Done 784 tasks      | elapsed:    0.0s\n",
      "[Parallel(n_jobs=8)]: Done 1234 tasks      | elapsed:    0.0s\n",
      "[Parallel(n_jobs=8)]: Done 1750 out of 1750 | elapsed:    0.1s finished\n",
      "[Parallel(n_jobs=-1)]: Using backend LokyBackend with 8 concurrent workers.\n",
      "[Parallel(n_jobs=-1)]: Done  56 tasks      | elapsed:    0.0s\n",
      "[Parallel(n_jobs=-1)]: Done 1680 tasks      | elapsed:    0.3s\n",
      "[Parallel(n_jobs=-1)]: Done 1750 out of 1750 | elapsed:    0.3s finished\n",
      "[Parallel(n_jobs=8)]: Using backend ThreadingBackend with 8 concurrent workers.\n",
      "[Parallel(n_jobs=8)]: Done  34 tasks      | elapsed:    0.0s\n",
      "[Parallel(n_jobs=8)]: Done 184 tasks      | elapsed:    0.0s\n",
      "[Parallel(n_jobs=8)]: Done 434 tasks      | elapsed:    0.0s\n",
      "[Parallel(n_jobs=8)]: Done 784 tasks      | elapsed:    0.0s\n",
      "[Parallel(n_jobs=8)]: Done 1234 tasks      | elapsed:    0.0s\n",
      "[Parallel(n_jobs=8)]: Done 1750 out of 1750 | elapsed:    0.1s finished\n",
      "[Parallel(n_jobs=-1)]: Using backend LokyBackend with 8 concurrent workers.\n",
      "[Parallel(n_jobs=-1)]: Done  56 tasks      | elapsed:    0.0s\n",
      "[Parallel(n_jobs=-1)]: Done 1680 tasks      | elapsed:    0.4s\n",
      "[Parallel(n_jobs=-1)]: Done 1750 out of 1750 | elapsed:    0.4s finished\n",
      "[Parallel(n_jobs=8)]: Using backend ThreadingBackend with 8 concurrent workers.\n",
      "[Parallel(n_jobs=8)]: Done  34 tasks      | elapsed:    0.0s\n",
      "[Parallel(n_jobs=8)]: Done 184 tasks      | elapsed:    0.0s\n",
      "[Parallel(n_jobs=8)]: Done 434 tasks      | elapsed:    0.0s\n",
      "[Parallel(n_jobs=8)]: Done 784 tasks      | elapsed:    0.0s\n",
      "[Parallel(n_jobs=8)]: Done 1234 tasks      | elapsed:    0.0s\n",
      "[Parallel(n_jobs=8)]: Done 1750 out of 1750 | elapsed:    0.1s finished\n",
      "[Parallel(n_jobs=-1)]: Using backend LokyBackend with 8 concurrent workers.\n",
      "[Parallel(n_jobs=-1)]: Done  56 tasks      | elapsed:    0.0s\n",
      "[Parallel(n_jobs=-1)]: Done 1680 tasks      | elapsed:    0.3s\n",
      "[Parallel(n_jobs=-1)]: Done 1750 out of 1750 | elapsed:    0.3s finished\n",
      "[Parallel(n_jobs=8)]: Using backend ThreadingBackend with 8 concurrent workers.\n",
      "[Parallel(n_jobs=8)]: Done  34 tasks      | elapsed:    0.0s\n",
      "[Parallel(n_jobs=8)]: Done 184 tasks      | elapsed:    0.0s\n",
      "[Parallel(n_jobs=8)]: Done 434 tasks      | elapsed:    0.0s\n",
      "[Parallel(n_jobs=8)]: Done 784 tasks      | elapsed:    0.0s\n",
      "[Parallel(n_jobs=8)]: Done 1234 tasks      | elapsed:    0.0s\n",
      "[Parallel(n_jobs=8)]: Done 1750 out of 1750 | elapsed:    0.1s finished\n"
     ]
    },
    {
     "name": "stdout",
     "output_type": "stream",
     "text": [
      "Mean AUC Score - Random Forest:  0.8707548312254195\n"
     ]
    }
   ],
   "source": [
    "#Mean AUC Score\n",
    "from sklearn.model_selection import cross_val_score\n",
    "model_cv_score = cross_val_score(model, X_RFC, y_RFC, cv=10, scoring = 'roc_auc')\n",
    "print(\"Mean AUC Score - Random Forest: \", model_cv_score.mean())"
   ]
  },
  {
   "cell_type": "markdown",
   "id": "bdbd2ea6",
   "metadata": {},
   "source": [
    "###### ***Area under the ROC Curve: 87%***"
   ]
  },
  {
   "cell_type": "code",
   "execution_count": 112,
   "id": "9a6778b1",
   "metadata": {},
   "outputs": [],
   "source": [
    "#Score Test CVS\n",
    "#Drop Columns testing data set will not use to model\n",
    "drop_1 = ['Pclass', 'Sex', 'Embarked', 'Title', 'Deck', 'Family Bin', 'Age', 'Fare', 'PassengerId', 'Name', 'SibSp',\n",
    "       'Parch','Ticket', 'Cabin', 'Family Size']\n",
    "PassengerId = pd.DataFrame(test['PassengerId'])\n",
    "RFC_Sub_Test = StandardScaler().fit_transform(test.drop(drop_1, axis = 1))\n"
   ]
  },
  {
   "cell_type": "code",
   "execution_count": 113,
   "id": "bc65a240",
   "metadata": {},
   "outputs": [
    {
     "name": "stderr",
     "output_type": "stream",
     "text": [
      "[Parallel(n_jobs=8)]: Using backend ThreadingBackend with 8 concurrent workers.\n",
      "[Parallel(n_jobs=8)]: Done  34 tasks      | elapsed:    0.0s\n",
      "[Parallel(n_jobs=8)]: Done 184 tasks      | elapsed:    0.0s\n",
      "[Parallel(n_jobs=8)]: Done 434 tasks      | elapsed:    0.0s\n",
      "[Parallel(n_jobs=8)]: Done 784 tasks      | elapsed:    0.0s\n",
      "[Parallel(n_jobs=8)]: Done 1234 tasks      | elapsed:    0.1s\n",
      "[Parallel(n_jobs=8)]: Done 1750 out of 1750 | elapsed:    0.1s finished\n"
     ]
    }
   ],
   "source": [
    "predictions = model.predict(RFC_Sub_Test)"
   ]
  },
  {
   "cell_type": "code",
   "execution_count": 114,
   "id": "48a34c22",
   "metadata": {},
   "outputs": [],
   "source": [
    "RFC_Predictions = pd.DataFrame({'PassengerId':test.PassengerId, 'Survived':predictions})"
   ]
  },
  {
   "cell_type": "code",
   "execution_count": 115,
   "id": "368ecda5",
   "metadata": {},
   "outputs": [
    {
     "data": {
      "text/plain": [
       "PassengerId    int64\n",
       "Survived       int64\n",
       "dtype: object"
      ]
     },
     "execution_count": 115,
     "metadata": {},
     "output_type": "execute_result"
    }
   ],
   "source": [
    "RFC_Predictions.dtypes"
   ]
  },
  {
   "cell_type": "code",
   "execution_count": 116,
   "id": "96f914a9",
   "metadata": {},
   "outputs": [],
   "source": [
    "RFC_Predictions.to_csv(r'D:\\Downloads\\Python\\Titanic Project\\RFC_Predictions.csv', index = False, header = True)"
   ]
  },
  {
   "cell_type": "markdown",
   "id": "ebf92018",
   "metadata": {},
   "source": [
    "## Logistic Regression Model with an accuarcy of 84% and an Area under ROC Curve of 83%\n",
    "## Random Forest Classifier with an accuarcy of 83% and an Area under ROC Curve of 87%\n",
    "## Difference of 17 Mismatched predictions between the two model"
   ]
  }
 ],
 "metadata": {
  "kernelspec": {
   "display_name": "Python 3 (ipykernel)",
   "language": "python",
   "name": "python3"
  },
  "language_info": {
   "codemirror_mode": {
    "name": "ipython",
    "version": 3
   },
   "file_extension": ".py",
   "mimetype": "text/x-python",
   "name": "python",
   "nbconvert_exporter": "python",
   "pygments_lexer": "ipython3",
   "version": "3.8.2"
  }
 },
 "nbformat": 4,
 "nbformat_minor": 5
}
