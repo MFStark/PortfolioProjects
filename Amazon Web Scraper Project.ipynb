{
 "cells": [
  {
   "cell_type": "markdown",
   "id": "94ac6c06",
   "metadata": {},
   "source": [
    "# ***Amazon Web Scraper Project - Price Tracking***"
   ]
  },
  {
   "cell_type": "code",
   "execution_count": 3,
   "id": "91f1fc1e",
   "metadata": {},
   "outputs": [],
   "source": [
    "#Import Libraries\n",
    "\n",
    "from bs4 import BeautifulSoup\n",
    "import requests\n",
    "import smtplib\n",
    "import time\n",
    "import datetime"
   ]
  },
  {
   "cell_type": "code",
   "execution_count": 18,
   "id": "d3063c14",
   "metadata": {},
   "outputs": [],
   "source": [
    "#Connect to website\n",
    "\n",
    "URL = 'https://www.amazon.com/Hello-World-Computer-Programming-Languages/dp/B07B3WN3FM/?_encoding=UTF8&pd_rd_w=6XMv7&pf_rd_p=03bef33a-a357-4fe3-9505-7fd4d6236957&pf_rd_r=5SBZM9Q6HRQW245QC2B2&pd_rd_r=baefb651-fc5f-4508-a447-e5e9705be3f0&pd_rd_wg=AhNzJ&ref_=pd_gw_ci_mcx_mr_hp_d'\n",
    "\n",
    "#http://httpbin.org/get\n",
    "headers = {\"User-Agent\": \"Mozilla/5.0 (Windows NT 10.0; Win64; x64) AppleWebKit/537.36 (KHTML, like Gecko) Chrome/96.0.4664.110 Safari/537.36\"}\n",
    "\n",
    "\n",
    "page = requests.get(URL, headers=headers)\n",
    "\n"
   ]
  },
  {
   "cell_type": "code",
   "execution_count": 19,
   "id": "66373536",
   "metadata": {},
   "outputs": [],
   "source": [
    "#Pulls html from page\n",
    "soup1 = BeautifulSoup(page.content, \"html.parser\")\n",
    "\n",
    "#Formating .prettify()\n",
    "soup2 = BeautifulSoup(soup1.prettify(),\"html.parser\")\n"
   ]
  },
  {
   "cell_type": "code",
   "execution_count": 21,
   "id": "44666c49",
   "metadata": {},
   "outputs": [
    {
     "name": "stdout",
     "output_type": "stream",
     "text": [
      "\n",
      "                   Hello World - Computer Programming Languages T-Shirt\n",
      "                  \n"
     ]
    }
   ],
   "source": [
    "#Title of item\n",
    "title = soup2.find(id=\"productTitle\").get_text()\n",
    "\n",
    "print(title)"
   ]
  },
  {
   "cell_type": "code",
   "execution_count": 56,
   "id": "26e62b3d",
   "metadata": {},
   "outputs": [
    {
     "name": "stdout",
     "output_type": "stream",
     "text": [
      "24\n"
     ]
    }
   ],
   "source": [
    "#Alternative way to find price if hidden and no 'id' is given in the html\n",
    "alt_price = soup2.find(id=\"apex_desktop\").get_text()\n",
    "\n",
    "location = alt_price.find('$')\n",
    "print(location)"
   ]
  },
  {
   "cell_type": "code",
   "execution_count": 64,
   "id": "bf4fde99",
   "metadata": {},
   "outputs": [
    {
     "name": "stdout",
     "output_type": "stream",
     "text": [
      "$19.99\n"
     ]
    }
   ],
   "source": [
    "price = alt_price[24:30]\n",
    "print(price)"
   ]
  },
  {
   "cell_type": "code",
   "execution_count": 69,
   "id": "06d2036c",
   "metadata": {},
   "outputs": [],
   "source": [
    "#Add date data when data was scraped\n",
    "\n",
    "today = datetime.date.today()"
   ]
  },
  {
   "cell_type": "code",
   "execution_count": 67,
   "id": "02292f9f",
   "metadata": {},
   "outputs": [
    {
     "name": "stdout",
     "output_type": "stream",
     "text": [
      "Hello World - Computer Programming Languages T-Shirt\n",
      "19.99\n"
     ]
    }
   ],
   "source": [
    "#Cleaning the title and price\n",
    "price = price.strip()[1:]\n",
    "title = title.strip()\n",
    "print(title)\n",
    "print(price)"
   ]
  },
  {
   "cell_type": "code",
   "execution_count": 70,
   "id": "cb11f104",
   "metadata": {},
   "outputs": [],
   "source": [
    "# Create csv to write headers and data into a file\n",
    "\n",
    "import csv\n",
    "\n",
    "header = ['Product','Price', 'Date']\n",
    "data = [title, price, today]\n",
    "\n",
    "\n",
    "#Create csv, insert header, insert data\n",
    "with open('AmazonWebScraperDataset.csv', 'w', newline='', encoding = 'UTF8') as f:\n",
    "    writer = csv.writer(f)\n",
    "    writer.writerow(header)\n",
    "    writer.writerow(data)"
   ]
  },
  {
   "cell_type": "code",
   "execution_count": 72,
   "id": "fb46ac90",
   "metadata": {},
   "outputs": [
    {
     "name": "stdout",
     "output_type": "stream",
     "text": [
      "                                             Product  Price        Date\n",
      "0  Hello World - Computer Programming Languages T...  19.99  2021-12-31\n"
     ]
    }
   ],
   "source": [
    "#Import pandas to create dataset in python\n",
    "\n",
    "import pandas as pd\n",
    "\n",
    "df = pd.read_csv('D:\\Downloads\\Python\\Amazon\\AmazonWebScraperDataset.csv')\n",
    "\n",
    "print(df)"
   ]
  },
  {
   "cell_type": "code",
   "execution_count": null,
   "id": "55578ef2",
   "metadata": {},
   "outputs": [],
   "source": [
    "#Append new data to the created csv, 'a+', append new data\n",
    "\n",
    "with open('AmazonWebScraperDataset.csv', 'a+', newline='', encoding = 'UTF8') as f:\n",
    "    writer = csv.writer(f)\n",
    "    writer.writerow(data)"
   ]
  },
  {
   "cell_type": "code",
   "execution_count": 74,
   "id": "b89082e0",
   "metadata": {},
   "outputs": [],
   "source": [
    "#Create new function combining the above code\n",
    "\n",
    "def check_price():\n",
    "    \n",
    "    #Connect to website\n",
    "\n",
    "    URL = 'https://www.amazon.com/Hello-World-Computer-Programming-Languages/dp/B07B3WN3FM/?_encoding=UTF8&pd_rd_w=6XMv7&pf_rd_p=03bef33a-a357-4fe3-9505-7fd4d6236957&pf_rd_r=5SBZM9Q6HRQW245QC2B2&pd_rd_r=baefb651-fc5f-4508-a447-e5e9705be3f0&pd_rd_wg=AhNzJ&ref_=pd_gw_ci_mcx_mr_hp_d'\n",
    "\n",
    "    #http://httpbin.org/get\n",
    "    headers = {\"User-Agent\": \"Mozilla/5.0 (Windows NT 10.0; Win64; x64) AppleWebKit/537.36 (KHTML, like Gecko) Chrome/96.0.4664.110 Safari/537.36\"}\n",
    "\n",
    "\n",
    "    page = requests.get(URL, headers=headers)\n",
    "    \n",
    "    #Pulls html from page\n",
    "    soup1 = BeautifulSoup(page.content, \"html.parser\")\n",
    "\n",
    "    #Formating .prettify()\n",
    "    soup2 = BeautifulSoup(soup1.prettify(),\"html.parser\")\n",
    "    \n",
    "    #Title of item\n",
    "    title = soup2.find(id=\"productTitle\").get_text()\n",
    "    \n",
    "    #Alternative way to find price if hidden and no 'id' is given in the html\n",
    "    alt_price = soup2.find(id=\"apex_desktop\").get_text()\n",
    "    \n",
    "    price = alt_price[24:30]\n",
    "    \n",
    "    today = datetime.date.today()\n",
    "    \n",
    "    #Cleaning the title and price\n",
    "    price = price.strip()[1:]\n",
    "    title = title.strip()\n",
    "    \n",
    "    # Create csv to write headers and data into a file\n",
    "\n",
    "    import csv\n",
    "\n",
    "    header = ['Product','Price', 'Date']\n",
    "    data = [title, price, today]\n",
    "    \n",
    "    #Append new data to the created csv, 'a+', append new data\n",
    "    with open('AmazonWebScraperDataset.csv', 'a+', newline='', encoding = 'UTF8') as f:\n",
    "        writer = csv.writer(f)\n",
    "        writer.writerow(data)\n",
    "    \n",
    "    "
   ]
  },
  {
   "cell_type": "code",
   "execution_count": null,
   "id": "478b0778",
   "metadata": {},
   "outputs": [],
   "source": [
    "# Runs the check_price function after a defined time, 86400 seconds equals 1 day, runs everyday\n",
    "\n",
    "while(True):\n",
    "    check_price()\n",
    "    time.sleep(86400)"
   ]
  },
  {
   "cell_type": "markdown",
   "id": "46ffe2fd",
   "metadata": {},
   "source": [
    "#### Tracks price daily and writes it into a csv, useful for time series analysis. Program can run automatically in the background"
   ]
  }
 ],
 "metadata": {
  "kernelspec": {
   "display_name": "Python 3 (ipykernel)",
   "language": "python",
   "name": "python3"
  },
  "language_info": {
   "codemirror_mode": {
    "name": "ipython",
    "version": 3
   },
   "file_extension": ".py",
   "mimetype": "text/x-python",
   "name": "python",
   "nbconvert_exporter": "python",
   "pygments_lexer": "ipython3",
   "version": "3.8.2"
  }
 },
 "nbformat": 4,
 "nbformat_minor": 5
}
